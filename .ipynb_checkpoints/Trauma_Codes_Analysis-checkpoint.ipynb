{
 "cells": [
  {
   "cell_type": "code",
   "execution_count": 1,
   "metadata": {},
   "outputs": [],
   "source": [
    "import os\n",
    "import numpy as np\n",
    "import pandas as pd\n",
    "from sklearn.preprocessing import PolynomialFeatures\n",
    "from sklearn.model_selection import train_test_split, cross_val_score\n",
    "from sklearn.linear_model import LinearRegression\n",
    "from sklearn.linear_model import LassoCV\n",
    "from sklearn.linear_model import RidgeCV\n",
    "from sklearn.svm import SVR\n",
    "from sklearn import metrics\n",
    "\n",
    "from tqdm import tqdm\n",
    "import matplotlib.pyplot as plt\n",
    "import re\n",
    "import copy\n",
    "import pickle\n",
    "\n",
    "os.chdir(r\"/Users/payton-jones/Google Drive/01 - Research/McNally Lab Qualitative Coding Projects/Payton's Project/Qualitative Coding/Data\")"
   ]
  },
  {
   "cell_type": "code",
   "execution_count": 2,
   "metadata": {},
   "outputs": [],
   "source": [
    "# Load and clean ratings\n",
    "\n",
    "ratings = pd.read_csv(r\"qualitative_ratings.csv\")\n",
    "nRaters = 6\n",
    "\n",
    "#ratings.dropna(subset = ['Actual physical injury_noah'], inplace=True)\n",
    "ratings.rename(columns = lambda x: x.lower(), inplace=True)\n",
    "ratings.rename(columns = lambda x: re.sub(\" \",\"_\",x), inplace=True)\n",
    "\n",
    "events = ratings.loc[:,'events']"
   ]
  },
  {
   "cell_type": "markdown",
   "metadata": {},
   "source": [
    "# Study 1 Demographics"
   ]
  },
  {
   "cell_type": "code",
   "execution_count": 3,
   "metadata": {},
   "outputs": [
    {
     "name": "stdout",
     "output_type": "stream",
     "text": [
      "36.18\n",
      "10.467563208219584\n",
      "Male      0.552\n",
      "Female    0.432\n",
      "Other     0.016\n",
      "Name: Gender, dtype: float64\n",
      "Caucasian/White                                                                      0.772\n",
      "Asian/Pacific Islander                                                               0.064\n",
      "Hispanic                                                                             0.052\n",
      "Black/African American                                                               0.048\n",
      "Caucasian/White,Hispanic                                                             0.020\n",
      "Multi-racial                                                                         0.012\n",
      "Native American/Alaska Native                                                        0.012\n",
      "Black/African American,Caucasian/White,Native American/Alaska Native,Multi-racial    0.008\n",
      "Caucasian/White,Native American/Alaska Native                                        0.004\n",
      "Caucasian/White,Hispanic,Multi-racial                                                0.004\n",
      "Black/African American,Multi-racial                                                  0.004\n",
      "Name: Race, dtype: float64\n",
      "Non-hispanic    0.884\n",
      "Hispanic        0.116\n",
      "Name: Ethnicity, dtype: float64\n",
      "No     0.872\n",
      "Yes    0.128\n",
      "Name: PreviousDiagnosis_YesNo, dtype: float64\n",
      "No     0.692\n",
      "Yes    0.308\n",
      "Name: TraumaScreen, dtype: float64\n",
      "2.5719999999999996\n",
      "Not religious           0.548\n",
      "Somewhat religious      0.156\n",
      "Moderately religious    0.148\n",
      "Very religious          0.104\n",
      "Extremely religious     0.044\n",
      "Name: Religiosity, dtype: float64\n"
     ]
    }
   ],
   "source": [
    "study_1_data = pd.read_csv(r\"Pilot_Data_Clean.csv\")\n",
    "\n",
    "# Age\n",
    "print(study_1_data[\"Age\"].mean())\n",
    "print(study_1_data[\"Age\"].std())\n",
    "\n",
    "# Gender\n",
    "print(study_1_data[\"Gender\"].value_counts()/study_1_data[\"Gender\"].count())\n",
    "\n",
    "# Race\n",
    "print(study_1_data[\"Race\"].value_counts()/study_1_data[\"Race\"].count())\n",
    "\n",
    "# Race\n",
    "print(study_1_data[\"Ethnicity\"].value_counts()/study_1_data[\"Ethnicity\"].count())\n",
    "\n",
    "# Previous mental disorder\n",
    "print(study_1_data[\"PreviousDiagnosis_YesNo\"].value_counts()/study_1_data[\"PreviousDiagnosis_YesNo\"].count())\n",
    "\n",
    "# Previous trauma\n",
    "print(study_1_data[\"TraumaScreen\"].value_counts()/study_1_data[\"TraumaScreen\"].count())\n",
    "\n",
    "# Political Orientation\n",
    "political_orient = study_1_data[\"PoliticalOrientation\"].value_counts()/study_1_data[\"PoliticalOrientation\"].count()\n",
    "print(sum(political_orient * [2, 1, 3, 4, 5]))\n",
    "\n",
    "# Political Orientation\n",
    "print(study_1_data[\"Religiosity\"].value_counts()/study_1_data[\"Religiosity\"].count())"
   ]
  },
  {
   "cell_type": "markdown",
   "metadata": {},
   "source": [
    "# Create features"
   ]
  },
  {
   "cell_type": "code",
   "execution_count": 4,
   "metadata": {},
   "outputs": [],
   "source": [
    "# Create consensus ratings for each category\n",
    "\n",
    "categories = ['threat_of_physical_injury','actual_physical_injury', \\\n",
    "              'threat_of_death', 'actual_death', 'sexual_content',\\\n",
    "             'physical_pain','human_perpetrator','close_int._perpetrator',\\\n",
    "             'close_int._victim','loss_of_possessions','threat_to_moral_identity',\n",
    "             'threat_to_social_status_or_other_identity','threat_to_moral_worldview',\n",
    "             'threat_to_trust_in_interpersonal_relationships']\n",
    "\n",
    "features = pd.DataFrame(index=range(600), columns=categories)\n",
    "for cat in categories:\n",
    "    allRatings = list()\n",
    "    for i in ratings.columns.values: \n",
    "        if bool(re.search(cat, i)):\n",
    "            allRatings.append(ratings.loc[:,i])\n",
    "            \n",
    "    # get averages using pandas\n",
    "    # columns = 1 for each rater\n",
    "    allRatingsDF = pd.DataFrame(index=range(600), columns=range(nRaters))\n",
    "    for i in range(nRaters):\n",
    "        allRatingsDF.iloc[:,i] = allRatings[i]\n",
    "    features.loc[:,cat] = (allRatingsDF.mean(1)>=0.5).astype(int)\n",
    "\n",
    "# Use regex to add features for learned about, witnessed, happened, child\n",
    "\n",
    "features['learned_about'] = None\n",
    "features['witnessed'] = None\n",
    "features['child'] = None\n",
    "\n",
    "for i in range(features.shape[0]):\n",
    "    event = events[i]\n",
    "    if bool(re.search('learn', event[:10])) or bool(re.search('read', event[:10])):\n",
    "        features.loc[(features.index == i),'learned_about'] = 1\n",
    "    else:\n",
    "        features.loc[(features.index == i),'learned_about'] = 0\n",
    "    \n",
    "    if bool(re.search('witness', event[:10])) or bool(re.search('watch', event[:10])):\n",
    "        features.loc[(features.index == i),'witnessed'] = 1\n",
    "    else:\n",
    "        features.loc[(features.index == i),'witnessed'] = 0\n",
    "\n",
    "    if bool(re.search('child', event)):\n",
    "        features.loc[(features.index == i),'child'] = 1\n",
    "    else:\n",
    "        features.loc[(features.index == i),'child'] = 0\n",
    "        \n",
    "# to check regex\n",
    "#pd.concat([events, features], axis=1).to_csv('check.csv')\n",
    "\n",
    "# Add interaction terms\n",
    "intr = PolynomialFeatures(interaction_only=True,include_bias = False)\n",
    "features_int = pd.DataFrame(intr.fit_transform(features))\n",
    "features_int.columns = intr.get_feature_names(features.columns)"
   ]
  },
  {
   "cell_type": "markdown",
   "metadata": {},
   "source": [
    "# Create responses"
   ]
  },
  {
   "cell_type": "code",
   "execution_count": 5,
   "metadata": {},
   "outputs": [
    {
     "data": {
      "text/html": [
       "<div>\n",
       "<style scoped>\n",
       "    .dataframe tbody tr th:only-of-type {\n",
       "        vertical-align: middle;\n",
       "    }\n",
       "\n",
       "    .dataframe tbody tr th {\n",
       "        vertical-align: top;\n",
       "    }\n",
       "\n",
       "    .dataframe thead th {\n",
       "        text-align: right;\n",
       "    }\n",
       "</style>\n",
       "<table border=\"1\" class=\"dataframe\">\n",
       "  <thead>\n",
       "    <tr style=\"text-align: right;\">\n",
       "      <th></th>\n",
       "      <th>seriousness_mean</th>\n",
       "    </tr>\n",
       "  </thead>\n",
       "  <tbody>\n",
       "    <tr>\n",
       "      <th>0</th>\n",
       "      <td>1.42222</td>\n",
       "    </tr>\n",
       "    <tr>\n",
       "      <th>1</th>\n",
       "      <td>5.97778</td>\n",
       "    </tr>\n",
       "    <tr>\n",
       "      <th>2</th>\n",
       "      <td>6.35556</td>\n",
       "    </tr>\n",
       "    <tr>\n",
       "      <th>3</th>\n",
       "      <td>4.13333</td>\n",
       "    </tr>\n",
       "    <tr>\n",
       "      <th>4</th>\n",
       "      <td>1.57778</td>\n",
       "    </tr>\n",
       "    <tr>\n",
       "      <th>...</th>\n",
       "      <td>...</td>\n",
       "    </tr>\n",
       "    <tr>\n",
       "      <th>595</th>\n",
       "      <td>4.34</td>\n",
       "    </tr>\n",
       "    <tr>\n",
       "      <th>596</th>\n",
       "      <td>5.94</td>\n",
       "    </tr>\n",
       "    <tr>\n",
       "      <th>597</th>\n",
       "      <td>1.784</td>\n",
       "    </tr>\n",
       "    <tr>\n",
       "      <th>598</th>\n",
       "      <td>1.604</td>\n",
       "    </tr>\n",
       "    <tr>\n",
       "      <th>599</th>\n",
       "      <td>3.296</td>\n",
       "    </tr>\n",
       "  </tbody>\n",
       "</table>\n",
       "<p>600 rows × 1 columns</p>\n",
       "</div>"
      ],
      "text/plain": [
       "    seriousness_mean\n",
       "0            1.42222\n",
       "1            5.97778\n",
       "2            6.35556\n",
       "3            4.13333\n",
       "4            1.57778\n",
       "..               ...\n",
       "595             4.34\n",
       "596             5.94\n",
       "597            1.784\n",
       "598            1.604\n",
       "599            3.296\n",
       "\n",
       "[600 rows x 1 columns]"
      ]
     },
     "execution_count": 5,
     "metadata": {},
     "output_type": "execute_result"
    }
   ],
   "source": [
    "stimuli_means = pd.read_csv(r\"Stimuli_Means.csv\")\n",
    "stimuli_means.columns = [\"events\",\"means\"]\n",
    "\n",
    "responses = pd.DataFrame(index=range(ratings.shape[0]), columns=[\"seriousness_mean\"])\n",
    "for i in range(ratings.shape[0]):\n",
    "    stimIndex = stimuli_means.index[stimuli_means['events'] == ratings.iloc[i, ratings.columns.get_indexer(['events'])][0]].tolist()\n",
    "    responses.iloc[i,stimuli_means.columns.get_indexer(['seriousness_mean'])[0]] = stimuli_means.iloc[stimIndex[0], stimuli_means.columns.get_indexer(['means'])[0]]\n",
    "\n",
    "responses"
   ]
  },
  {
   "cell_type": "code",
   "execution_count": 6,
   "metadata": {},
   "outputs": [],
   "source": [
    "X_train, X_test, y_train, y_test = train_test_split(features, responses, test_size=0.2, random_state=111)\n",
    "X_train_int, X_test_int, y_train_int, y_test_int = train_test_split(features_int, responses, test_size=0.2, random_state=111)"
   ]
  },
  {
   "cell_type": "markdown",
   "metadata": {},
   "source": [
    "# Linear regression"
   ]
  },
  {
   "cell_type": "code",
   "execution_count": 7,
   "metadata": {},
   "outputs": [
    {
     "name": "stdout",
     "output_type": "stream",
     "text": [
      "                                                Coefficient\n",
      "actual_death                                       2.024155\n",
      "threat_to_social_status_or_other_identity          1.787167\n",
      "threat_of_death                                    1.511792\n",
      "close_int._victim                                  1.187354\n",
      "threat_to_moral_identity                           1.170506\n",
      "loss_of_possessions                                1.075639\n",
      "threat_to_trust_in_interpersonal_relationships     1.071857\n",
      "sexual_content                                     0.859800\n",
      "actual_physical_injury                             0.761833\n",
      "threat_of_physical_injury                          0.714671\n",
      "human_perpetrator                                  0.640473\n",
      "threat_to_moral_worldview                          0.568809\n",
      "physical_pain                                      0.512831\n",
      "child                                              0.433852\n",
      "close_int._perpetrator                            -0.059629\n",
      "witnessed                                         -0.162055\n",
      "learned_about                                     -1.019865\n",
      "0.7218740390361139\n"
     ]
    }
   ],
   "source": [
    "regressor = LinearRegression()  \n",
    "regressor.fit(X_train, y_train) \n",
    "coeff_df = pd.DataFrame(regressor.coef_[0], features.columns, columns=['Coefficient'])  \n",
    "print(coeff_df.sort_values(by = 'Coefficient', ascending = False))\n",
    "\n",
    "# R^2\n",
    "lm_score = cross_val_score(regressor, X_train, y_train).mean()\n",
    "print(lm_score)"
   ]
  },
  {
   "cell_type": "markdown",
   "metadata": {},
   "source": [
    "# Lasso"
   ]
  },
  {
   "cell_type": "code",
   "execution_count": 8,
   "metadata": {},
   "outputs": [
    {
     "name": "stdout",
     "output_type": "stream",
     "text": [
      "                                                    Coefficient\n",
      "threat_of_death                                        2.942958\n",
      "actual_death                                           2.731925\n",
      "threat_to_social_status_or_other_identity              1.816521\n",
      "actual_physical_injury                                 1.758370\n",
      "human_perpetrator                                      1.686761\n",
      "close_int._victim                                      1.344749\n",
      "loss_of_possessions                                    1.298227\n",
      "close_int._victim learned_about                        1.164029\n",
      "threat_of_physical_injury                              1.139353\n",
      "threat_to_social_status_or_other_identity learn...     0.924592\n",
      "threat_to_moral_worldview child                        0.812286\n",
      "human_perpetrator threat_to_moral_worldview            0.697261\n",
      "threat_to_moral_identity                               0.694508\n",
      "actual_physical_injury physical_pain                   0.688089\n",
      "actual_death threat_to_moral_identity                  0.617953\n",
      "threat_to_social_status_or_other_identity threa...     0.602042\n",
      "threat_of_physical_injury physical_pain                0.570811\n",
      "threat_to_moral_worldview witnessed                    0.532037\n",
      "close_int._victim witnessed                            0.513645\n",
      "sexual_content                                         0.472464\n",
      "physical_pain                                          0.426429\n",
      "human_perpetrator threat_to_trust_in_interperso...     0.401837\n",
      "threat_to_trust_in_interpersonal_relationships         0.386962\n",
      "child                                                  0.236782\n",
      "sexual_content physical_pain                           0.208476\n",
      "close_int._perpetrator threat_to_trust_in_inter...     0.203304\n",
      "threat_to_moral_worldview                              0.186327\n",
      "actual_physical_injury close_int._victim               0.055745\n",
      "close_int._victim threat_to_moral_worldview            0.052318\n",
      "sexual_content threat_to_trust_in_interpersonal...     0.005242\n",
      "threat_of_physical_injury sexual_content               0.001252\n",
      "threat_to_social_status_or_other_identity witne...     0.000000\n",
      "physical_pain threat_to_trust_in_interpersonal_...    -0.000000\n",
      "close_int._perpetrator loss_of_possessions             0.000000\n",
      "close_int._perpetrator close_int._victim               0.000000\n",
      "human_perpetrator child                                0.000000\n",
      "human_perpetrator learned_about                        0.000000\n",
      "learned_about witnessed                                0.000000\n",
      "human_perpetrator threat_to_moral_identity             0.000000\n",
      "physical_pain witnessed                                0.000000\n",
      "physical_pain loss_of_possessions                     -0.000000\n",
      "physical_pain threat_to_moral_identity                -0.000000\n",
      "sexual_content witnessed                               0.000000\n",
      "sexual_content learned_about                          -0.000000\n",
      "learned_about child                                    0.000000\n",
      "sexual_content threat_to_moral_worldview              -0.000000\n",
      "sexual_content threat_to_social_status_or_other...     0.000000\n",
      "sexual_content threat_to_moral_identity               -0.000000\n",
      "sexual_content loss_of_possessions                     0.000000\n",
      "sexual_content close_int._victim                      -0.000000\n",
      "sexual_content close_int._perpetrator                  0.000000\n",
      "close_int._perpetrator threat_to_moral_identity        0.000000\n",
      "close_int._perpetrator witnessed                       0.000000\n",
      "close_int._perpetrator learned_about                   0.000000\n",
      "loss_of_possessions threat_to_trust_in_interper...     0.000000\n",
      "threat_to_moral_identity child                         0.000000\n",
      "threat_to_moral_identity witnessed                    -0.000000\n",
      "threat_to_moral_identity learned_about                 0.000000\n",
      "threat_to_moral_identity threat_to_trust_in_int...     0.000000\n",
      "threat_to_moral_identity threat_to_moral_worldview     0.000000\n",
      "threat_to_moral_identity threat_to_social_statu...     0.000000\n",
      "loss_of_possessions child                             -0.000000\n",
      "loss_of_possessions witnessed                          0.000000\n",
      "loss_of_possessions learned_about                      0.000000\n",
      "threat_to_trust_in_interpersonal_relationships ...     0.000000\n",
      "threat_to_social_status_or_other_identity child        0.000000\n",
      "loss_of_possessions threat_to_moral_identity           0.000000\n",
      "close_int._victim child                                0.000000\n",
      "threat_to_trust_in_interpersonal_relationships ...     0.000000\n",
      "threat_to_trust_in_interpersonal_relationships ...     0.000000\n",
      "close_int._victim threat_to_trust_in_interperso...     0.000000\n",
      "close_int._victim threat_to_social_status_or_ot...     0.000000\n",
      "close_int._victim threat_to_moral_identity            -0.000000\n",
      "close_int._victim loss_of_possessions                 -0.000000\n",
      "close_int._perpetrator child                           0.000000\n",
      "loss_of_possessions threat_to_social_status_or_...    -0.000000\n",
      "sexual_content human_perpetrator                       0.000000\n",
      "actual_death child                                    -0.000000\n",
      "threat_of_death threat_to_trust_in_interpersona...    -0.000000\n",
      "threat_of_death close_int._victim                     -0.000000\n",
      "threat_of_death close_int._perpetrator                -0.000000\n",
      "actual_death witnessed                                 0.000000\n",
      "threat_of_death sexual_content                         0.000000\n",
      "actual_physical_injury child                          -0.000000\n",
      "actual_physical_injury learned_about                  -0.000000\n",
      "actual_physical_injury threat_to_trust_in_inter...    -0.000000\n",
      "actual_physical_injury threat_to_social_status_...     0.000000\n",
      "actual_physical_injury threat_to_moral_identity       -0.000000\n",
      "actual_physical_injury loss_of_possessions             0.000000\n",
      "actual_physical_injury close_int._perpetrator          0.000000\n",
      "actual_physical_injury sexual_content                 -0.000000\n",
      "threat_of_physical_injury child                       -0.000000\n",
      "threat_of_physical_injury threat_to_trust_in_in...    -0.000000\n",
      "threat_of_physical_injury threat_to_moral_world...     0.000000\n",
      "threat_of_physical_injury threat_to_social_stat...     0.000000\n",
      "threat_of_physical_injury threat_to_moral_identity     0.000000\n",
      "threat_of_physical_injury close_int._perpetrator      -0.000000\n",
      "threat_of_physical_injury actual_death                -0.000000\n",
      "threat_of_physical_injury actual_physical_injury       0.000000\n",
      "witnessed                                             -0.000000\n",
      "threat_of_death threat_to_moral_identity               0.000000\n",
      "witnessed child                                       -0.000000\n",
      "threat_of_death witnessed                              0.000000\n",
      "actual_death close_int._perpetrator                    0.000000\n",
      "actual_death close_int._victim                        -0.000000\n",
      "actual_death loss_of_possessions                      -0.000000\n",
      "actual_death threat_to_social_status_or_other_i...     0.000000\n",
      "actual_death threat_to_trust_in_interpersonal_r...     0.000000\n",
      "threat_of_death child                                  0.000000\n",
      "actual_death sexual_content                           -0.000000\n",
      "close_int._perpetrator                                -0.002724\n",
      "actual_death physical_pain                            -0.016498\n",
      "threat_to_moral_worldview threat_to_trust_in_in...    -0.018242\n",
      "threat_of_death loss_of_possessions                   -0.022448\n",
      "human_perpetrator close_int._perpetrator              -0.024419\n",
      "physical_pain threat_to_moral_worldview               -0.026255\n",
      "close_int._perpetrator threat_to_moral_worldview      -0.052868\n",
      "threat_of_death actual_death                          -0.055410\n",
      "sexual_content child                                  -0.096744\n",
      "actual_physical_injury threat_to_moral_worldview      -0.100810\n",
      "threat_of_physical_injury learned_about               -0.131019\n",
      "threat_of_death threat_to_moral_worldview             -0.191809\n",
      "physical_pain close_int._perpetrator                  -0.201717\n",
      "actual_physical_injury human_perpetrator              -0.211703\n",
      "threat_to_social_status_or_other_identity threa...    -0.232254\n",
      "human_perpetrator loss_of_possessions                 -0.237941\n",
      "threat_of_death physical_pain                         -0.248723\n",
      "threat_of_physical_injury loss_of_possessions         -0.252606\n",
      "learned_about                                         -0.291198\n",
      "threat_to_moral_worldview learned_about               -0.308769\n",
      "threat_of_death threat_to_social_status_or_othe...    -0.313981\n",
      "human_perpetrator witnessed                           -0.318693\n",
      "physical_pain child                                   -0.347862\n",
      "loss_of_possessions threat_to_moral_worldview         -0.352851\n",
      "physical_pain threat_to_social_status_or_other_...    -0.472422\n",
      "actual_death threat_to_moral_worldview                -0.512833\n",
      "actual_physical_injury witnessed                      -0.526599\n",
      "physical_pain human_perpetrator                       -0.568551\n",
      "threat_of_physical_injury witnessed                   -0.569463\n",
      "physical_pain close_int._victim                       -0.583774\n",
      "threat_of_death human_perpetrator                     -0.642261\n",
      "human_perpetrator close_int._victim                   -0.643948\n",
      "threat_of_physical_injury close_int._victim           -0.654817\n",
      "threat_of_physical_injury human_perpetrator           -0.679865\n",
      "actual_physical_injury actual_death                   -0.736308\n",
      "physical_pain learned_about                           -0.809257\n",
      "actual_death learned_about                            -0.829040\n",
      "human_perpetrator threat_to_social_status_or_ot...    -0.884431\n",
      "close_int._perpetrator threat_to_social_status_...    -1.178877\n",
      "threat_of_physical_injury threat_of_death             -1.268945\n",
      "threat_of_death learned_about                         -1.274535\n",
      "actual_death human_perpetrator                        -1.425155\n",
      "actual_physical_injury threat_of_death                -2.067101\n"
     ]
    },
    {
     "name": "stdout",
     "output_type": "stream",
     "text": [
      "0.797477633426783\n"
     ]
    }
   ],
   "source": [
    "from sklearn.model_selection import cross_val_score\n",
    "\n",
    "regressorLasso = LassoCV(n_alphas=200, cv=10, random_state = 111)  \n",
    "regressorLasso.fit(X_train_int, y_train_int.values.ravel()) \n",
    "coeff_df_Lasso = pd.DataFrame(regressorLasso.coef_, features_int.columns, columns=['Coefficient']) \n",
    "\n",
    "pd.set_option('display.max_rows', 1000)\n",
    "print(coeff_df_Lasso.sort_values(by = 'Coefficient', ascending = False))\n",
    "pd.set_option('display.max_rows', 17)\n",
    "\n",
    "# R^2\n",
    "lasso_score = cross_val_score(regressorLasso, X_train_int, y_train_int.values.ravel()).mean()\n",
    "print(lasso_score)"
   ]
  },
  {
   "cell_type": "code",
   "execution_count": 9,
   "metadata": {},
   "outputs": [
    {
     "data": {
      "image/png": "[encoded data removed]",
      "text/plain": [
       "<Figure size 432x288 with 1 Axes>"
      ]
     },
     "metadata": {
      "needs_background": "light"
     },
     "output_type": "display_data"
    }
   ],
   "source": [
    "fig = plt.figure()\n",
    "ax = fig.add_axes([0,0,1,1])\n",
    "labs = X_train_int.columns\n",
    "heights = list(coeff_df_Lasso.Coefficient)\n",
    "ax.bar(labs,heights)\n",
    "plt.show()"
   ]
  },
  {
   "cell_type": "markdown",
   "metadata": {},
   "source": [
    "# Ridge regression"
   ]
  },
  {
   "cell_type": "code",
   "execution_count": 10,
   "metadata": {},
   "outputs": [
    {
     "name": "stdout",
     "output_type": "stream",
     "text": [
      "                                                    Coefficient\n",
      "threat_of_physical_injury                              0.983782\n",
      "actual_physical_injury                                 1.385538\n",
      "threat_of_death                                        2.720552\n",
      "actual_death                                           2.400740\n",
      "sexual_content                                         0.204563\n",
      "...                                                         ...\n",
      "threat_to_trust_in_interpersonal_relationships ...    -0.077846\n",
      "threat_to_trust_in_interpersonal_relationships ...     0.000000\n",
      "learned_about witnessed                                0.000000\n",
      "learned_about child                                    0.136681\n",
      "witnessed child                                       -0.250286\n",
      "\n",
      "[153 rows x 1 columns]\n",
      "0.7984000280180761\n"
     ]
    }
   ],
   "source": [
    "regressorRidge = RidgeCV()  \n",
    "regressorRidge.fit(X_train_int, y_train_int.values.ravel()) \n",
    "coeff_df_Ridge = pd.DataFrame(regressorRidge.coef_, features_int.columns, columns=['Coefficient'])  \n",
    "print(coeff_df_Ridge)\n",
    "\n",
    "# R^2\n",
    "ridge_score = cross_val_score(regressorRidge, X_train_int, y_train_int.values.ravel()).mean()\n",
    "print(ridge_score)"
   ]
  },
  {
   "cell_type": "markdown",
   "metadata": {},
   "source": [
    "# Support Vector Regression"
   ]
  },
  {
   "cell_type": "code",
   "execution_count": 11,
   "metadata": {},
   "outputs": [
    {
     "name": "stdout",
     "output_type": "stream",
     "text": [
      "0.7825484352428407\n"
     ]
    }
   ],
   "source": [
    "from sklearn.pipeline import make_pipeline\n",
    "from sklearn.preprocessing import StandardScaler\n",
    "from sklearn.model_selection import GridSearchCV\n",
    "\n",
    "svr_basic = make_pipeline(StandardScaler(), SVR()) \n",
    "param_grid = {\n",
    "    'svr__kernel': ['rbf', 'sigmoid', 'linear'],\n",
    "    'svr__gamma': ['scale', 'auto'],\n",
    "    'svr__C': [0.1, 0.5, 1.0, 2.0, 10.0],\n",
    "}\n",
    "regressorSVR = GridSearchCV(estimator=svr_basic, param_grid=param_grid, n_jobs=-1)\n",
    "regressorSVR.fit(X_train_int, y_train_int.values.ravel())\n",
    "\n",
    "svr_score = regressorSVR.best_score_ # default 5-fold from GridSearchCV on best_estimator_\n",
    "print(svr_score)"
   ]
  },
  {
   "cell_type": "code",
   "execution_count": 54,
   "metadata": {},
   "outputs": [
    {
     "name": "stdout",
     "output_type": "stream",
     "text": [
      "Pipeline(steps=[('standardscaler', StandardScaler()),\n",
      "                ('svr', SVR(C=10.0, gamma='auto'))])\n"
     ]
    }
   ],
   "source": [
    "print(regressorSVR.best_estimator_)"
   ]
  },
  {
   "cell_type": "markdown",
   "metadata": {},
   "source": [
    "# In Test Data"
   ]
  },
  {
   "cell_type": "code",
   "execution_count": 12,
   "metadata": {},
   "outputs": [
    {
     "name": "stdout",
     "output_type": "stream",
     "text": [
      "0.7048506756039227\n",
      "0.7554328946886004\n",
      "0.7541347111171278\n",
      "0.7464326686384379\n"
     ]
    }
   ],
   "source": [
    "lm_score_test = regressor.score(X_test,y_test)\n",
    "lasso_score_test = regressorLasso.score(X_test_int,y_test_int)\n",
    "ridge_score_test = regressorRidge.score(X_test_int,y_test_int)\n",
    "svr_score_test = regressorSVR.score(X_test_int,y_test_int)\n",
    "\n",
    "print(lm_score_test)\n",
    "print(lasso_score_test)\n",
    "print(ridge_score_test)\n",
    "print(svr_score_test)"
   ]
  },
  {
   "cell_type": "markdown",
   "metadata": {},
   "source": [
    "# Plot Feature Importances for Primary Variables"
   ]
  },
  {
   "cell_type": "code",
   "execution_count": 13,
   "metadata": {},
   "outputs": [
    {
     "data": {
      "image/png": "[encoded data removed]",
      "text/plain": [
       "<Figure size 864x576 with 1 Axes>"
      ]
     },
     "metadata": {
      "needs_background": "light"
     },
     "output_type": "display_data"
    },
    {
     "data": {
      "text/plain": [
       "<Figure size 432x288 with 0 Axes>"
      ]
     },
     "metadata": {},
     "output_type": "display_data"
    }
   ],
   "source": [
    "import matplotlib\n",
    "import matplotlib.pyplot as plt\n",
    "from sklearn import preprocessing\n",
    "\n",
    "labels = features.columns\n",
    "\n",
    "x = np.arange(len(labels))  # the label locations\n",
    "width = 0.35  # the width of the bars\n",
    "\n",
    "# Raw coefficient values\n",
    "mean_lm =    np.concatenate(coeff_df.loc[labels,].values)\n",
    "mean_lasso = np.concatenate(coeff_df_Lasso.loc[labels,].values)\n",
    "mean_ridge = np.concatenate(coeff_df_Ridge.loc[labels,].values)\n",
    "\n",
    "# sort\n",
    "sum_all_mods = mean_lm + mean_lasso + mean_ridge\n",
    "correct_order = np.argsort(sum_all_mods)[::-1]\n",
    "labels = labels[correct_order]\n",
    "mean_lm = mean_lm[correct_order]\n",
    "mean_lasso = mean_lasso[correct_order]\n",
    "mean_ridge = mean_ridge[correct_order]\n",
    "\n",
    "fig, ax = plt.subplots(figsize=(12,8))\n",
    "rects1 = ax.bar(x - width/3, mean_lm, width/3, label='Linear Model')\n",
    "rects2 = ax.bar(x + width/3, mean_lasso, width/3, label='LASSO')\n",
    "rects3 = ax.bar(x, mean_ridge, width/3, label='Ridge')\n",
    "\n",
    "# Add some text for labels, title and custom x-axis tick labels, etc.\n",
    "ax.set_ylabel('Coefficient Values')\n",
    "ax.set_title('Regression Coefficients: Predicting Event Severity')\n",
    "ax.set_xticks(x)\n",
    "ax.set_xticklabels(labels)\n",
    "ax.legend()\n",
    "\n",
    "plt.xticks(rotation=90)\n",
    "\n",
    "fig.tight_layout()\n",
    "\n",
    "plt.show()\n",
    "plt.savefig('figs/feature_importances_continuous.png')"
   ]
  },
  {
   "cell_type": "code",
   "execution_count": 14,
   "metadata": {},
   "outputs": [
    {
     "data": {
      "image/png": "[encoded data removed]",
      "text/plain": [
       "<Figure size 864x576 with 1 Axes>"
      ]
     },
     "metadata": {
      "needs_background": "light"
     },
     "output_type": "display_data"
    }
   ],
   "source": [
    "# Normalized version\n",
    "\n",
    "import matplotlib\n",
    "import matplotlib.pyplot as plt\n",
    "from sklearn import preprocessing\n",
    "\n",
    "labels = features.columns\n",
    "\n",
    "x = np.arange(len(labels))  # the label locations\n",
    "width = 0.35  # the width of the bars\n",
    "\n",
    "# normalize on abs values coeff_df_Lasso\n",
    "mean_lm =    np.concatenate(preprocessing.MinMaxScaler().fit_transform(coeff_df.loc[labels,].abs()))\n",
    "mean_lasso = np.concatenate(preprocessing.MinMaxScaler().fit_transform(coeff_df_Lasso.loc[labels,].abs()))\n",
    "mean_ridge = np.concatenate(preprocessing.MinMaxScaler().fit_transform(coeff_df_Ridge.loc[labels,].abs()))\n",
    "\n",
    "fig, ax = plt.subplots(figsize=(12,8))\n",
    "rects1 = ax.bar(x - width/3, mean_lm, width/3, label='Linear Model')\n",
    "rects2 = ax.bar(x + width/3, mean_lasso, width/3, label='LASSO')\n",
    "rects3 = ax.bar(x, mean_ridge, width/3, label='Ridge')\n",
    "\n",
    "# Add some text for labels, title and custom x-axis tick labels, etc.\n",
    "ax.set_ylabel('Feature Importances')\n",
    "ax.set_title('Feature Importances in Predicting Event Severity')\n",
    "ax.set_xticks(x)\n",
    "ax.set_xticklabels(labels)\n",
    "ax.legend()\n",
    "\n",
    "plt.xticks(rotation=90)\n",
    "\n",
    "fig.tight_layout()\n",
    "\n",
    "plt.show()"
   ]
  },
  {
   "cell_type": "markdown",
   "metadata": {},
   "source": [
    "Interactions that Mattered?"
   ]
  },
  {
   "cell_type": "code",
   "execution_count": 15,
   "metadata": {},
   "outputs": [
    {
     "data": {
      "text/html": [
       "<div>\n",
       "<style scoped>\n",
       "    .dataframe tbody tr th:only-of-type {\n",
       "        vertical-align: middle;\n",
       "    }\n",
       "\n",
       "    .dataframe tbody tr th {\n",
       "        vertical-align: top;\n",
       "    }\n",
       "\n",
       "    .dataframe thead th {\n",
       "        text-align: right;\n",
       "    }\n",
       "</style>\n",
       "<table border=\"1\" class=\"dataframe\">\n",
       "  <thead>\n",
       "    <tr style=\"text-align: right;\">\n",
       "      <th></th>\n",
       "      <th>Coefficient</th>\n",
       "    </tr>\n",
       "  </thead>\n",
       "  <tbody>\n",
       "    <tr>\n",
       "      <th>close_int._victim learned_about</th>\n",
       "      <td>1.164029</td>\n",
       "    </tr>\n",
       "    <tr>\n",
       "      <th>threat_to_social_status_or_other_identity learned_about</th>\n",
       "      <td>0.924592</td>\n",
       "    </tr>\n",
       "    <tr>\n",
       "      <th>threat_to_moral_worldview child</th>\n",
       "      <td>0.812286</td>\n",
       "    </tr>\n",
       "    <tr>\n",
       "      <th>human_perpetrator threat_to_moral_worldview</th>\n",
       "      <td>0.697261</td>\n",
       "    </tr>\n",
       "    <tr>\n",
       "      <th>actual_physical_injury physical_pain</th>\n",
       "      <td>0.688089</td>\n",
       "    </tr>\n",
       "    <tr>\n",
       "      <th>actual_death threat_to_moral_identity</th>\n",
       "      <td>0.617953</td>\n",
       "    </tr>\n",
       "    <tr>\n",
       "      <th>threat_to_social_status_or_other_identity threat_to_moral_worldview</th>\n",
       "      <td>0.602042</td>\n",
       "    </tr>\n",
       "    <tr>\n",
       "      <th>threat_of_physical_injury physical_pain</th>\n",
       "      <td>0.570811</td>\n",
       "    </tr>\n",
       "    <tr>\n",
       "      <th>threat_to_moral_worldview witnessed</th>\n",
       "      <td>0.532037</td>\n",
       "    </tr>\n",
       "    <tr>\n",
       "      <th>close_int._victim witnessed</th>\n",
       "      <td>0.513645</td>\n",
       "    </tr>\n",
       "    <tr>\n",
       "      <th>human_perpetrator threat_to_trust_in_interpersonal_relationships</th>\n",
       "      <td>0.401837</td>\n",
       "    </tr>\n",
       "    <tr>\n",
       "      <th>sexual_content physical_pain</th>\n",
       "      <td>0.208476</td>\n",
       "    </tr>\n",
       "    <tr>\n",
       "      <th>close_int._perpetrator threat_to_trust_in_interpersonal_relationships</th>\n",
       "      <td>0.203304</td>\n",
       "    </tr>\n",
       "    <tr>\n",
       "      <th>actual_physical_injury close_int._victim</th>\n",
       "      <td>0.055745</td>\n",
       "    </tr>\n",
       "    <tr>\n",
       "      <th>close_int._victim threat_to_moral_worldview</th>\n",
       "      <td>0.052318</td>\n",
       "    </tr>\n",
       "    <tr>\n",
       "      <th>sexual_content threat_to_trust_in_interpersonal_relationships</th>\n",
       "      <td>0.005242</td>\n",
       "    </tr>\n",
       "    <tr>\n",
       "      <th>threat_of_physical_injury sexual_content</th>\n",
       "      <td>0.001252</td>\n",
       "    </tr>\n",
       "    <tr>\n",
       "      <th>actual_death physical_pain</th>\n",
       "      <td>-0.016498</td>\n",
       "    </tr>\n",
       "    <tr>\n",
       "      <th>threat_to_moral_worldview threat_to_trust_in_interpersonal_relationships</th>\n",
       "      <td>-0.018242</td>\n",
       "    </tr>\n",
       "    <tr>\n",
       "      <th>threat_of_death loss_of_possessions</th>\n",
       "      <td>-0.022448</td>\n",
       "    </tr>\n",
       "    <tr>\n",
       "      <th>human_perpetrator close_int._perpetrator</th>\n",
       "      <td>-0.024419</td>\n",
       "    </tr>\n",
       "    <tr>\n",
       "      <th>physical_pain threat_to_moral_worldview</th>\n",
       "      <td>-0.026255</td>\n",
       "    </tr>\n",
       "    <tr>\n",
       "      <th>close_int._perpetrator threat_to_moral_worldview</th>\n",
       "      <td>-0.052868</td>\n",
       "    </tr>\n",
       "    <tr>\n",
       "      <th>threat_of_death actual_death</th>\n",
       "      <td>-0.055410</td>\n",
       "    </tr>\n",
       "    <tr>\n",
       "      <th>sexual_content child</th>\n",
       "      <td>-0.096744</td>\n",
       "    </tr>\n",
       "    <tr>\n",
       "      <th>actual_physical_injury threat_to_moral_worldview</th>\n",
       "      <td>-0.100810</td>\n",
       "    </tr>\n",
       "    <tr>\n",
       "      <th>threat_of_physical_injury learned_about</th>\n",
       "      <td>-0.131019</td>\n",
       "    </tr>\n",
       "    <tr>\n",
       "      <th>threat_of_death threat_to_moral_worldview</th>\n",
       "      <td>-0.191809</td>\n",
       "    </tr>\n",
       "    <tr>\n",
       "      <th>physical_pain close_int._perpetrator</th>\n",
       "      <td>-0.201717</td>\n",
       "    </tr>\n",
       "    <tr>\n",
       "      <th>actual_physical_injury human_perpetrator</th>\n",
       "      <td>-0.211703</td>\n",
       "    </tr>\n",
       "    <tr>\n",
       "      <th>threat_to_social_status_or_other_identity threat_to_trust_in_interpersonal_relationships</th>\n",
       "      <td>-0.232254</td>\n",
       "    </tr>\n",
       "    <tr>\n",
       "      <th>human_perpetrator loss_of_possessions</th>\n",
       "      <td>-0.237941</td>\n",
       "    </tr>\n",
       "    <tr>\n",
       "      <th>threat_of_death physical_pain</th>\n",
       "      <td>-0.248723</td>\n",
       "    </tr>\n",
       "    <tr>\n",
       "      <th>threat_of_physical_injury loss_of_possessions</th>\n",
       "      <td>-0.252606</td>\n",
       "    </tr>\n",
       "    <tr>\n",
       "      <th>threat_to_moral_worldview learned_about</th>\n",
       "      <td>-0.308769</td>\n",
       "    </tr>\n",
       "    <tr>\n",
       "      <th>threat_of_death threat_to_social_status_or_other_identity</th>\n",
       "      <td>-0.313981</td>\n",
       "    </tr>\n",
       "    <tr>\n",
       "      <th>human_perpetrator witnessed</th>\n",
       "      <td>-0.318693</td>\n",
       "    </tr>\n",
       "    <tr>\n",
       "      <th>physical_pain child</th>\n",
       "      <td>-0.347862</td>\n",
       "    </tr>\n",
       "    <tr>\n",
       "      <th>loss_of_possessions threat_to_moral_worldview</th>\n",
       "      <td>-0.352851</td>\n",
       "    </tr>\n",
       "    <tr>\n",
       "      <th>physical_pain threat_to_social_status_or_other_identity</th>\n",
       "      <td>-0.472422</td>\n",
       "    </tr>\n",
       "    <tr>\n",
       "      <th>actual_death threat_to_moral_worldview</th>\n",
       "      <td>-0.512833</td>\n",
       "    </tr>\n",
       "    <tr>\n",
       "      <th>actual_physical_injury witnessed</th>\n",
       "      <td>-0.526599</td>\n",
       "    </tr>\n",
       "    <tr>\n",
       "      <th>physical_pain human_perpetrator</th>\n",
       "      <td>-0.568551</td>\n",
       "    </tr>\n",
       "    <tr>\n",
       "      <th>threat_of_physical_injury witnessed</th>\n",
       "      <td>-0.569463</td>\n",
       "    </tr>\n",
       "    <tr>\n",
       "      <th>physical_pain close_int._victim</th>\n",
       "      <td>-0.583774</td>\n",
       "    </tr>\n",
       "    <tr>\n",
       "      <th>threat_of_death human_perpetrator</th>\n",
       "      <td>-0.642261</td>\n",
       "    </tr>\n",
       "    <tr>\n",
       "      <th>human_perpetrator close_int._victim</th>\n",
       "      <td>-0.643948</td>\n",
       "    </tr>\n",
       "    <tr>\n",
       "      <th>threat_of_physical_injury close_int._victim</th>\n",
       "      <td>-0.654817</td>\n",
       "    </tr>\n",
       "    <tr>\n",
       "      <th>threat_of_physical_injury human_perpetrator</th>\n",
       "      <td>-0.679865</td>\n",
       "    </tr>\n",
       "    <tr>\n",
       "      <th>actual_physical_injury actual_death</th>\n",
       "      <td>-0.736308</td>\n",
       "    </tr>\n",
       "    <tr>\n",
       "      <th>physical_pain learned_about</th>\n",
       "      <td>-0.809257</td>\n",
       "    </tr>\n",
       "    <tr>\n",
       "      <th>actual_death learned_about</th>\n",
       "      <td>-0.829040</td>\n",
       "    </tr>\n",
       "    <tr>\n",
       "      <th>human_perpetrator threat_to_social_status_or_other_identity</th>\n",
       "      <td>-0.884431</td>\n",
       "    </tr>\n",
       "    <tr>\n",
       "      <th>close_int._perpetrator threat_to_social_status_or_other_identity</th>\n",
       "      <td>-1.178877</td>\n",
       "    </tr>\n",
       "    <tr>\n",
       "      <th>threat_of_physical_injury threat_of_death</th>\n",
       "      <td>-1.268945</td>\n",
       "    </tr>\n",
       "    <tr>\n",
       "      <th>threat_of_death learned_about</th>\n",
       "      <td>-1.274535</td>\n",
       "    </tr>\n",
       "    <tr>\n",
       "      <th>actual_death human_perpetrator</th>\n",
       "      <td>-1.425155</td>\n",
       "    </tr>\n",
       "    <tr>\n",
       "      <th>actual_physical_injury threat_of_death</th>\n",
       "      <td>-2.067101</td>\n",
       "    </tr>\n",
       "  </tbody>\n",
       "</table>\n",
       "</div>"
      ],
      "text/plain": [
       "                                                    Coefficient\n",
       "close_int._victim learned_about                        1.164029\n",
       "threat_to_social_status_or_other_identity learn...     0.924592\n",
       "threat_to_moral_worldview child                        0.812286\n",
       "human_perpetrator threat_to_moral_worldview            0.697261\n",
       "actual_physical_injury physical_pain                   0.688089\n",
       "actual_death threat_to_moral_identity                  0.617953\n",
       "threat_to_social_status_or_other_identity threa...     0.602042\n",
       "threat_of_physical_injury physical_pain                0.570811\n",
       "threat_to_moral_worldview witnessed                    0.532037\n",
       "close_int._victim witnessed                            0.513645\n",
       "human_perpetrator threat_to_trust_in_interperso...     0.401837\n",
       "sexual_content physical_pain                           0.208476\n",
       "close_int._perpetrator threat_to_trust_in_inter...     0.203304\n",
       "actual_physical_injury close_int._victim               0.055745\n",
       "close_int._victim threat_to_moral_worldview            0.052318\n",
       "sexual_content threat_to_trust_in_interpersonal...     0.005242\n",
       "threat_of_physical_injury sexual_content               0.001252\n",
       "actual_death physical_pain                            -0.016498\n",
       "threat_to_moral_worldview threat_to_trust_in_in...    -0.018242\n",
       "threat_of_death loss_of_possessions                   -0.022448\n",
       "human_perpetrator close_int._perpetrator              -0.024419\n",
       "physical_pain threat_to_moral_worldview               -0.026255\n",
       "close_int._perpetrator threat_to_moral_worldview      -0.052868\n",
       "threat_of_death actual_death                          -0.055410\n",
       "sexual_content child                                  -0.096744\n",
       "actual_physical_injury threat_to_moral_worldview      -0.100810\n",
       "threat_of_physical_injury learned_about               -0.131019\n",
       "threat_of_death threat_to_moral_worldview             -0.191809\n",
       "physical_pain close_int._perpetrator                  -0.201717\n",
       "actual_physical_injury human_perpetrator              -0.211703\n",
       "threat_to_social_status_or_other_identity threa...    -0.232254\n",
       "human_perpetrator loss_of_possessions                 -0.237941\n",
       "threat_of_death physical_pain                         -0.248723\n",
       "threat_of_physical_injury loss_of_possessions         -0.252606\n",
       "threat_to_moral_worldview learned_about               -0.308769\n",
       "threat_of_death threat_to_social_status_or_othe...    -0.313981\n",
       "human_perpetrator witnessed                           -0.318693\n",
       "physical_pain child                                   -0.347862\n",
       "loss_of_possessions threat_to_moral_worldview         -0.352851\n",
       "physical_pain threat_to_social_status_or_other_...    -0.472422\n",
       "actual_death threat_to_moral_worldview                -0.512833\n",
       "actual_physical_injury witnessed                      -0.526599\n",
       "physical_pain human_perpetrator                       -0.568551\n",
       "threat_of_physical_injury witnessed                   -0.569463\n",
       "physical_pain close_int._victim                       -0.583774\n",
       "threat_of_death human_perpetrator                     -0.642261\n",
       "human_perpetrator close_int._victim                   -0.643948\n",
       "threat_of_physical_injury close_int._victim           -0.654817\n",
       "threat_of_physical_injury human_perpetrator           -0.679865\n",
       "actual_physical_injury actual_death                   -0.736308\n",
       "physical_pain learned_about                           -0.809257\n",
       "actual_death learned_about                            -0.829040\n",
       "human_perpetrator threat_to_social_status_or_ot...    -0.884431\n",
       "close_int._perpetrator threat_to_social_status_...    -1.178877\n",
       "threat_of_physical_injury threat_of_death             -1.268945\n",
       "threat_of_death learned_about                         -1.274535\n",
       "actual_death human_perpetrator                        -1.425155\n",
       "actual_physical_injury threat_of_death                -2.067101"
      ]
     },
     "execution_count": 15,
     "metadata": {},
     "output_type": "execute_result"
    }
   ],
   "source": [
    "pd.set_option('display.max_rows', 1000)\n",
    "\n",
    "lasso_coef_interactions = coeff_df_Lasso.sort_values(by = 'Coefficient', ascending = False)\n",
    "lasso_coef_interactions = lasso_coef_interactions[np.logical_not(lasso_coef_interactions.index.isin(features.columns))]\n",
    "\n",
    "lasso_coef_interactions.loc[np.array(lasso_coef_interactions != 0),]"
   ]
  },
  {
   "cell_type": "code",
   "execution_count": 16,
   "metadata": {},
   "outputs": [],
   "source": [
    "pd.set_option('display.max_rows', 1000)\n",
    "pd.options.display.float_format = '{:.2f}'.format\n",
    "np.set_printoptions(suppress=True)\n",
    "\n",
    "lasso_coef_interactions = coeff_df_Lasso.sort_values(by = 'Coefficient', ascending = False)\n",
    "lasso_coef_interactions = lasso_coef_interactions[np.logical_not(lasso_coef_interactions.index.isin(features.columns))]\n",
    "lasso_coef_interactions = lasso_coef_interactions.loc[np.array(lasso_coef_interactions != 0),]\n",
    "\n",
    "#pd.set_option('display.max_rows', 17)\n",
    "pd.DataFrame(lasso_coef_interactions)\n",
    "\n",
    "lasso_coef_interactions.to_csv(\"Nonzero Interaction Terms in LASSO.csv\")"
   ]
  },
  {
   "cell_type": "markdown",
   "metadata": {},
   "source": [
    "## Test whether feature importances track with category reliability"
   ]
  },
  {
   "cell_type": "code",
   "execution_count": 17,
   "metadata": {},
   "outputs": [
    {
     "name": "stdout",
     "output_type": "stream",
     "text": [
      "(0.11633501995922461, 0.6920667264899653)\n",
      "(0.30211372801106995, 0.293809227777979)\n",
      "(0.3994591907458143, 0.15706262755064124)\n",
      "(0.24057002278141615, 0.4073987544225072)\n",
      "(0.27947608184057615, 0.33320444884639494)\n",
      "(0.13874711852971658, 0.6361833764876672)\n"
     ]
    }
   ],
   "source": [
    "from scipy.stats import pearsonr\n",
    "\n",
    "labels_corrs = features.columns[:-3]\n",
    "\n",
    "# Raw coefficient values\n",
    "mean_lm =    np.concatenate(coeff_df.loc[labels_corrs,].values)\n",
    "mean_lasso = np.concatenate(coeff_df_Lasso.loc[labels_corrs,].values)\n",
    "mean_ridge = np.concatenate(coeff_df_Ridge.loc[labels_corrs,].values)\n",
    "\n",
    "# load reliabilities\n",
    "reliabilities = pd.read_csv(r\"category_reliabilities.csv\")\n",
    "reliabilities\n",
    "\n",
    "# correlate\n",
    "print(pearsonr(mean_lm, reliabilities.kalpha.values))\n",
    "print(pearsonr(mean_lm, reliabilities.agreement.values))\n",
    "\n",
    "print(pearsonr(mean_lasso, reliabilities.kalpha.values))\n",
    "print(pearsonr(mean_lasso, reliabilities.agreement.values))\n",
    "\n",
    "print(pearsonr(mean_ridge, reliabilities.kalpha.values))\n",
    "print(pearsonr(mean_ridge, reliabilities.agreement.values))"
   ]
  },
  {
   "cell_type": "markdown",
   "metadata": {},
   "source": [
    "# Load Binary Ratings Data"
   ]
  },
  {
   "cell_type": "code",
   "execution_count": 18,
   "metadata": {},
   "outputs": [
    {
     "name": "stderr",
     "output_type": "stream",
     "text": [
      "/Library/Frameworks/Python.framework/Versions/3.8/lib/python3.8/site-packages/IPython/core/interactiveshell.py:3062: DtypeWarning: Columns (8,13) have mixed types.Specify dtype option on import or set low_memory=False.\n",
      "  has_raised = await self.run_ast_nodes(code_ast.body, cell_name,\n"
     ]
    }
   ],
   "source": [
    "experiment1 = pd.read_csv(r\"Experiment1_Data_Clean.csv\")\n",
    "experiment2 = pd.read_csv(r\"Experiment2_Data_Clean.csv\")\n",
    "binData = pd.concat([experiment1,experiment2], axis=0)\n",
    "binData.reset_index(drop=True, inplace=True)"
   ]
  },
  {
   "cell_type": "markdown",
   "metadata": {},
   "source": [
    "# Prep features"
   ]
  },
  {
   "cell_type": "code",
   "execution_count": 19,
   "metadata": {},
   "outputs": [
    {
     "name": "stdout",
     "output_type": "stream",
     "text": [
      "106830\n"
     ]
    },
    {
     "data": {
      "text/plain": [
       "106830"
      ]
     },
     "execution_count": 19,
     "metadata": {},
     "output_type": "execute_result"
    }
   ],
   "source": [
    "# There are some minor textual differences in the events (extra spaces, commas)\n",
    "# To combine the two versions, we'll use a letters-only version\n",
    "\n",
    "import re\n",
    "\n",
    "tempDat1 = copy.deepcopy(features) # consensus ratings from qualitative coding\n",
    "tempDat1['stimulus_raw'] = ratings.loc[:,'events']\n",
    "\n",
    "letter_only = re.compile('[^a-zA-Z]')\n",
    "tempDat1['stimulus_letters'] = [letter_only.sub('', event) for event in tempDat1['stimulus_raw']]\n",
    "binData['stimulus_letters'] = [letter_only.sub('', event) for event in binData['stimulus']]\n",
    "\n",
    "print(binData.shape[0])\n",
    "sum(binData['stimulus_letters'].isin(tempDat1['stimulus_letters']))"
   ]
  },
  {
   "cell_type": "code",
   "execution_count": 20,
   "metadata": {},
   "outputs": [],
   "source": [
    "categoriesExtra = ['ResponseID', 'trial', 'DurationInSeconds','MentalDisorderTF','TraumaScreen',\\\n",
    "                  'Gender','Race','Ethnicity','Religiosity','PoliticalOrientation','Age',\n",
    "                  'condition']\n",
    "\n",
    "categories = ['threat_of_physical_injury','actual_physical_injury', \\\n",
    "              'threat_of_death', 'actual_death', 'sexual_content',\\\n",
    "             'physical_pain','human_perpetrator','close_int._perpetrator',\\\n",
    "             'close_int._victim','loss_of_possessions','threat_to_moral_identity',\n",
    "             'threat_to_social_status_or_other_identity','threat_to_moral_worldview',\n",
    "             'threat_to_trust_in_interpersonal_relationships']\n",
    "\n",
    "categories_re = ['learned_about','witnessed','child']\n",
    "\n",
    "binData = pd.merge(binData, tempDat1, on='stimulus_letters', how='left')\n",
    "\n",
    "featuresClass = binData.loc[:,categories+categories_re+categoriesExtra]"
   ]
  },
  {
   "cell_type": "markdown",
   "metadata": {},
   "source": [
    "# Study 2 Demographics"
   ]
  },
  {
   "cell_type": "code",
   "execution_count": 21,
   "metadata": {},
   "outputs": [
    {
     "name": "stdout",
     "output_type": "stream",
     "text": [
      "37.033698399326035\n",
      "11.119832813386267\n",
      "Male     0.57\n",
      "Female   0.43\n",
      "Name: Gender, dtype: float64\n",
      "Caucasian/White                                       0.80\n",
      "Black/African American                                0.07\n",
      "Asian/Pacific Islander                                0.05\n",
      "Hispanic                                              0.03\n",
      "Caucasian/White,Hispanic                              0.01\n",
      "Multi-racial                                          0.01\n",
      "Caucasian/White,Native American/Alaska Native         0.01\n",
      "Black/African American,Caucasian/White,Multi-racial   0.00\n",
      "Black/African American,Caucasian/White                0.00\n",
      "Asian/Pacific Islander,Caucasian/White                0.00\n",
      "Asian/Pacific Islander,Black/African American         0.00\n",
      "Asian/Pacific Islander,Hispanic,Multi-racial          0.00\n",
      "Native American/Alaska Native                         0.00\n",
      "Other                                                 0.00\n",
      "Caucasian/White,Hispanic,Multi-racial                 0.00\n",
      "Black/African American,Hispanic                       0.00\n",
      "Asian/Pacific Islander,Caucasian/White,Multi-racial   0.00\n",
      "Name: Race, dtype: float64\n",
      "Non-hispanic   0.94\n",
      "Hispanic       0.06\n",
      "Name: Ethnicity, dtype: float64\n",
      "No    0.84\n",
      "Yes   0.16\n",
      "Name: MentalDisorderTF, dtype: float64\n",
      "No    0.70\n",
      "Yes   0.30\n",
      "Name: TraumaScreen, dtype: float64\n",
      "Somewhat liberal                   0.34\n",
      "Very liberal                       0.24\n",
      "Somewhat conservative              0.19\n",
      "Neither liberal nor conservative   0.18\n",
      "Very conservative                  0.05\n",
      "Name: PoliticalOrientation, dtype: float64\n",
      "2.4748666105026675\n",
      "Not religious          0.56\n",
      "Somewhat religious     0.18\n",
      "Moderately religious   0.13\n",
      "Very religious         0.10\n",
      "Extremely religious    0.03\n",
      "Name: Religiosity, dtype: float64\n"
     ]
    }
   ],
   "source": [
    "study_2_data = binData\n",
    "\n",
    "# Age\n",
    "print(study_2_data[\"Age\"].mean())\n",
    "print(study_2_data[\"Age\"].std())\n",
    "\n",
    "# Gender\n",
    "print(study_2_data[\"Gender\"].value_counts()/study_2_data[\"Gender\"].count())\n",
    "\n",
    "# Race\n",
    "print(study_2_data[\"Race\"].value_counts()/study_2_data[\"Race\"].count())\n",
    "\n",
    "# Race\n",
    "print(study_2_data[\"Ethnicity\"].value_counts()/study_2_data[\"Ethnicity\"].count())\n",
    "\n",
    "# Previous mental disorder\n",
    "print(study_2_data[\"MentalDisorderTF\"].value_counts()/study_2_data[\"MentalDisorderTF\"].count())\n",
    "\n",
    "# Previous trauma\n",
    "print(study_2_data[\"TraumaScreen\"].value_counts()/study_2_data[\"TraumaScreen\"].count())\n",
    "\n",
    "# Political Orientation\n",
    "political_orient = study_2_data[\"PoliticalOrientation\"].value_counts()/study_2_data[\"PoliticalOrientation\"].count()\n",
    "print(political_orient)\n",
    "print(sum(political_orient * [2, 1, 3, 4, 5]))\n",
    "\n",
    "# Religiosity\n",
    "print(study_2_data[\"Religiosity\"].value_counts()/study_2_data[\"Religiosity\"].count())"
   ]
  },
  {
   "cell_type": "markdown",
   "metadata": {},
   "source": [
    "# Define features for classification models"
   ]
  },
  {
   "cell_type": "code",
   "execution_count": 22,
   "metadata": {},
   "outputs": [],
   "source": [
    "featuresClass = pd.concat([featuresClass, pd.get_dummies(featuresClass.MentalDisorderTF,prefix='mental_disorder',drop_first=True)], axis=1)\n",
    "featuresClass = pd.concat([featuresClass, pd.get_dummies(featuresClass.Ethnicity,prefix='ethnicity',drop_first=True)], axis=1)\n",
    "featuresClass = pd.concat([featuresClass, pd.get_dummies(featuresClass.Gender,prefix='gender',drop_first=True)], axis=1)\n",
    "featuresClass = pd.concat([featuresClass, pd.get_dummies(featuresClass.TraumaScreen,prefix='previous_trauma',drop_first=True)], axis=1)\n",
    "featuresClass = pd.concat([featuresClass, pd.get_dummies(featuresClass.condition,prefix='exp_condition',drop_first=True)], axis=1)\n",
    "\n",
    "\n",
    "# It's possible to fit fixed effects for each rater. But this complicates interpretation\n",
    "# featuresClass = pd.concat([featuresClass, pd.get_dummies(featuresClass.ResponseID,prefix='id',drop_first=True)], axis=1)"
   ]
  },
  {
   "cell_type": "code",
   "execution_count": 23,
   "metadata": {},
   "outputs": [],
   "source": [
    "# Note: coded low = conservative, high = liberal\n",
    "featuresClass.PoliticalOrientation = pd.Categorical(featuresClass.PoliticalOrientation,\n",
    "                     categories = ['Very conservative', 'Somewhat conservative','Neither liberal nor conservative','Somewhat liberal','Very liberal'],\n",
    "                     ordered = True).codes\n",
    "featuresClass.Religiosity = pd.Categorical(featuresClass.Religiosity,\n",
    "                     categories = ['Not religious', 'Somewhat religious','Moderately religious','Very religious','Extremely religious'],\n",
    "                     ordered = True).codes"
   ]
  },
  {
   "cell_type": "code",
   "execution_count": 24,
   "metadata": {},
   "outputs": [],
   "source": [
    "featuresClass['race_white'] = featuresClass.Race.str.contains('Caucasian/White')*1\n",
    "featuresClass['race_asian_pacific_islander'] = featuresClass.Race.str.contains('Asian/Pacific Islander')*1\n",
    "featuresClass['race_black'] = featuresClass.Race.str.contains('Black/African American')*1  \n",
    "featuresClass['race_hispanic'] = featuresClass.Race.str.contains('Hispanic')*1  \n",
    "featuresClass['race_multiracial'] = featuresClass.Race.str.contains('Multi-racial')*1  \n",
    "featuresClass['race_native_american_alaska_native'] = featuresClass.Race.str.contains('Native American/Alaska Native')*1  \n",
    "featuresClass['race_other'] = featuresClass.Race.str.contains('Other')*1  \n",
    "featuresClass['race_asian_pacific_islander'] = featuresClass.Race.str.contains('Asian/Pacific Islander')*1  "
   ]
  },
  {
   "cell_type": "code",
   "execution_count": 25,
   "metadata": {},
   "outputs": [
    {
     "data": {
      "text/html": [
       "<div>\n",
       "<style scoped>\n",
       "    .dataframe tbody tr th:only-of-type {\n",
       "        vertical-align: middle;\n",
       "    }\n",
       "\n",
       "    .dataframe tbody tr th {\n",
       "        vertical-align: top;\n",
       "    }\n",
       "\n",
       "    .dataframe thead th {\n",
       "        text-align: right;\n",
       "    }\n",
       "</style>\n",
       "<table border=\"1\" class=\"dataframe\">\n",
       "  <thead>\n",
       "    <tr style=\"text-align: right;\">\n",
       "      <th></th>\n",
       "      <th>threat_of_physical_injury</th>\n",
       "      <th>actual_physical_injury</th>\n",
       "      <th>threat_of_death</th>\n",
       "      <th>actual_death</th>\n",
       "      <th>sexual_content</th>\n",
       "      <th>physical_pain</th>\n",
       "      <th>human_perpetrator</th>\n",
       "      <th>close_int._perpetrator</th>\n",
       "      <th>close_int._victim</th>\n",
       "      <th>loss_of_possessions</th>\n",
       "      <th>...</th>\n",
       "      <th>exp_condition_High</th>\n",
       "      <th>exp_condition_Low</th>\n",
       "      <th>exp_condition_Stable</th>\n",
       "      <th>race_white</th>\n",
       "      <th>race_asian_pacific_islander</th>\n",
       "      <th>race_black</th>\n",
       "      <th>race_hispanic</th>\n",
       "      <th>race_multiracial</th>\n",
       "      <th>race_native_american_alaska_native</th>\n",
       "      <th>race_other</th>\n",
       "    </tr>\n",
       "  </thead>\n",
       "  <tbody>\n",
       "    <tr>\n",
       "      <th>0</th>\n",
       "      <td>0</td>\n",
       "      <td>0</td>\n",
       "      <td>0</td>\n",
       "      <td>0</td>\n",
       "      <td>0</td>\n",
       "      <td>0</td>\n",
       "      <td>0</td>\n",
       "      <td>0</td>\n",
       "      <td>0</td>\n",
       "      <td>0</td>\n",
       "      <td>...</td>\n",
       "      <td>0</td>\n",
       "      <td>0</td>\n",
       "      <td>0</td>\n",
       "      <td>1</td>\n",
       "      <td>0</td>\n",
       "      <td>0</td>\n",
       "      <td>0</td>\n",
       "      <td>0</td>\n",
       "      <td>0</td>\n",
       "      <td>0</td>\n",
       "    </tr>\n",
       "    <tr>\n",
       "      <th>1</th>\n",
       "      <td>0</td>\n",
       "      <td>0</td>\n",
       "      <td>0</td>\n",
       "      <td>0</td>\n",
       "      <td>0</td>\n",
       "      <td>0</td>\n",
       "      <td>0</td>\n",
       "      <td>0</td>\n",
       "      <td>0</td>\n",
       "      <td>0</td>\n",
       "      <td>...</td>\n",
       "      <td>0</td>\n",
       "      <td>0</td>\n",
       "      <td>0</td>\n",
       "      <td>1</td>\n",
       "      <td>0</td>\n",
       "      <td>0</td>\n",
       "      <td>0</td>\n",
       "      <td>0</td>\n",
       "      <td>0</td>\n",
       "      <td>0</td>\n",
       "    </tr>\n",
       "    <tr>\n",
       "      <th>2</th>\n",
       "      <td>0</td>\n",
       "      <td>0</td>\n",
       "      <td>0</td>\n",
       "      <td>0</td>\n",
       "      <td>0</td>\n",
       "      <td>0</td>\n",
       "      <td>0</td>\n",
       "      <td>0</td>\n",
       "      <td>0</td>\n",
       "      <td>0</td>\n",
       "      <td>...</td>\n",
       "      <td>0</td>\n",
       "      <td>0</td>\n",
       "      <td>0</td>\n",
       "      <td>1</td>\n",
       "      <td>0</td>\n",
       "      <td>0</td>\n",
       "      <td>0</td>\n",
       "      <td>0</td>\n",
       "      <td>0</td>\n",
       "      <td>0</td>\n",
       "    </tr>\n",
       "    <tr>\n",
       "      <th>3</th>\n",
       "      <td>1</td>\n",
       "      <td>0</td>\n",
       "      <td>0</td>\n",
       "      <td>0</td>\n",
       "      <td>0</td>\n",
       "      <td>1</td>\n",
       "      <td>1</td>\n",
       "      <td>0</td>\n",
       "      <td>0</td>\n",
       "      <td>0</td>\n",
       "      <td>...</td>\n",
       "      <td>0</td>\n",
       "      <td>0</td>\n",
       "      <td>0</td>\n",
       "      <td>1</td>\n",
       "      <td>0</td>\n",
       "      <td>0</td>\n",
       "      <td>0</td>\n",
       "      <td>0</td>\n",
       "      <td>0</td>\n",
       "      <td>0</td>\n",
       "    </tr>\n",
       "    <tr>\n",
       "      <th>4</th>\n",
       "      <td>0</td>\n",
       "      <td>0</td>\n",
       "      <td>0</td>\n",
       "      <td>0</td>\n",
       "      <td>0</td>\n",
       "      <td>0</td>\n",
       "      <td>0</td>\n",
       "      <td>0</td>\n",
       "      <td>0</td>\n",
       "      <td>0</td>\n",
       "      <td>...</td>\n",
       "      <td>0</td>\n",
       "      <td>0</td>\n",
       "      <td>0</td>\n",
       "      <td>1</td>\n",
       "      <td>0</td>\n",
       "      <td>0</td>\n",
       "      <td>0</td>\n",
       "      <td>0</td>\n",
       "      <td>0</td>\n",
       "      <td>0</td>\n",
       "    </tr>\n",
       "    <tr>\n",
       "      <th>...</th>\n",
       "      <td>...</td>\n",
       "      <td>...</td>\n",
       "      <td>...</td>\n",
       "      <td>...</td>\n",
       "      <td>...</td>\n",
       "      <td>...</td>\n",
       "      <td>...</td>\n",
       "      <td>...</td>\n",
       "      <td>...</td>\n",
       "      <td>...</td>\n",
       "      <td>...</td>\n",
       "      <td>...</td>\n",
       "      <td>...</td>\n",
       "      <td>...</td>\n",
       "      <td>...</td>\n",
       "      <td>...</td>\n",
       "      <td>...</td>\n",
       "      <td>...</td>\n",
       "      <td>...</td>\n",
       "      <td>...</td>\n",
       "      <td>...</td>\n",
       "    </tr>\n",
       "    <tr>\n",
       "      <th>106825</th>\n",
       "      <td>0</td>\n",
       "      <td>1</td>\n",
       "      <td>1</td>\n",
       "      <td>0</td>\n",
       "      <td>0</td>\n",
       "      <td>1</td>\n",
       "      <td>1</td>\n",
       "      <td>0</td>\n",
       "      <td>0</td>\n",
       "      <td>0</td>\n",
       "      <td>...</td>\n",
       "      <td>1</td>\n",
       "      <td>0</td>\n",
       "      <td>0</td>\n",
       "      <td>1</td>\n",
       "      <td>0</td>\n",
       "      <td>0</td>\n",
       "      <td>0</td>\n",
       "      <td>0</td>\n",
       "      <td>0</td>\n",
       "      <td>0</td>\n",
       "    </tr>\n",
       "    <tr>\n",
       "      <th>106826</th>\n",
       "      <td>0</td>\n",
       "      <td>0</td>\n",
       "      <td>0</td>\n",
       "      <td>1</td>\n",
       "      <td>0</td>\n",
       "      <td>0</td>\n",
       "      <td>1</td>\n",
       "      <td>0</td>\n",
       "      <td>0</td>\n",
       "      <td>0</td>\n",
       "      <td>...</td>\n",
       "      <td>1</td>\n",
       "      <td>0</td>\n",
       "      <td>0</td>\n",
       "      <td>1</td>\n",
       "      <td>0</td>\n",
       "      <td>0</td>\n",
       "      <td>0</td>\n",
       "      <td>0</td>\n",
       "      <td>0</td>\n",
       "      <td>0</td>\n",
       "    </tr>\n",
       "    <tr>\n",
       "      <th>106827</th>\n",
       "      <td>0</td>\n",
       "      <td>0</td>\n",
       "      <td>0</td>\n",
       "      <td>0</td>\n",
       "      <td>1</td>\n",
       "      <td>0</td>\n",
       "      <td>1</td>\n",
       "      <td>1</td>\n",
       "      <td>0</td>\n",
       "      <td>0</td>\n",
       "      <td>...</td>\n",
       "      <td>1</td>\n",
       "      <td>0</td>\n",
       "      <td>0</td>\n",
       "      <td>1</td>\n",
       "      <td>0</td>\n",
       "      <td>0</td>\n",
       "      <td>0</td>\n",
       "      <td>0</td>\n",
       "      <td>0</td>\n",
       "      <td>0</td>\n",
       "    </tr>\n",
       "    <tr>\n",
       "      <th>106828</th>\n",
       "      <td>0</td>\n",
       "      <td>0</td>\n",
       "      <td>0</td>\n",
       "      <td>1</td>\n",
       "      <td>0</td>\n",
       "      <td>0</td>\n",
       "      <td>0</td>\n",
       "      <td>0</td>\n",
       "      <td>0</td>\n",
       "      <td>0</td>\n",
       "      <td>...</td>\n",
       "      <td>1</td>\n",
       "      <td>0</td>\n",
       "      <td>0</td>\n",
       "      <td>1</td>\n",
       "      <td>0</td>\n",
       "      <td>0</td>\n",
       "      <td>0</td>\n",
       "      <td>0</td>\n",
       "      <td>0</td>\n",
       "      <td>0</td>\n",
       "    </tr>\n",
       "    <tr>\n",
       "      <th>106829</th>\n",
       "      <td>0</td>\n",
       "      <td>1</td>\n",
       "      <td>1</td>\n",
       "      <td>0</td>\n",
       "      <td>0</td>\n",
       "      <td>1</td>\n",
       "      <td>0</td>\n",
       "      <td>0</td>\n",
       "      <td>0</td>\n",
       "      <td>0</td>\n",
       "      <td>...</td>\n",
       "      <td>1</td>\n",
       "      <td>0</td>\n",
       "      <td>0</td>\n",
       "      <td>1</td>\n",
       "      <td>0</td>\n",
       "      <td>0</td>\n",
       "      <td>0</td>\n",
       "      <td>0</td>\n",
       "      <td>0</td>\n",
       "      <td>0</td>\n",
       "    </tr>\n",
       "  </tbody>\n",
       "</table>\n",
       "<p>106830 rows × 36 columns</p>\n",
       "</div>"
      ],
      "text/plain": [
       "        threat_of_physical_injury  actual_physical_injury  threat_of_death  \\\n",
       "0                               0                       0                0   \n",
       "1                               0                       0                0   \n",
       "2                               0                       0                0   \n",
       "3                               1                       0                0   \n",
       "4                               0                       0                0   \n",
       "...                           ...                     ...              ...   \n",
       "106825                          0                       1                1   \n",
       "106826                          0                       0                0   \n",
       "106827                          0                       0                0   \n",
       "106828                          0                       0                0   \n",
       "106829                          0                       1                1   \n",
       "\n",
       "        actual_death  sexual_content  physical_pain  human_perpetrator  \\\n",
       "0                  0               0              0                  0   \n",
       "1                  0               0              0                  0   \n",
       "2                  0               0              0                  0   \n",
       "3                  0               0              1                  1   \n",
       "4                  0               0              0                  0   \n",
       "...              ...             ...            ...                ...   \n",
       "106825             0               0              1                  1   \n",
       "106826             1               0              0                  1   \n",
       "106827             0               1              0                  1   \n",
       "106828             1               0              0                  0   \n",
       "106829             0               0              1                  0   \n",
       "\n",
       "        close_int._perpetrator  close_int._victim  loss_of_possessions  ...  \\\n",
       "0                            0                  0                    0  ...   \n",
       "1                            0                  0                    0  ...   \n",
       "2                            0                  0                    0  ...   \n",
       "3                            0                  0                    0  ...   \n",
       "4                            0                  0                    0  ...   \n",
       "...                        ...                ...                  ...  ...   \n",
       "106825                       0                  0                    0  ...   \n",
       "106826                       0                  0                    0  ...   \n",
       "106827                       1                  0                    0  ...   \n",
       "106828                       0                  0                    0  ...   \n",
       "106829                       0                  0                    0  ...   \n",
       "\n",
       "        exp_condition_High  exp_condition_Low  exp_condition_Stable  \\\n",
       "0                        0                  0                     0   \n",
       "1                        0                  0                     0   \n",
       "2                        0                  0                     0   \n",
       "3                        0                  0                     0   \n",
       "4                        0                  0                     0   \n",
       "...                    ...                ...                   ...   \n",
       "106825                   1                  0                     0   \n",
       "106826                   1                  0                     0   \n",
       "106827                   1                  0                     0   \n",
       "106828                   1                  0                     0   \n",
       "106829                   1                  0                     0   \n",
       "\n",
       "        race_white race_asian_pacific_islander race_black race_hispanic  \\\n",
       "0                1                           0          0             0   \n",
       "1                1                           0          0             0   \n",
       "2                1                           0          0             0   \n",
       "3                1                           0          0             0   \n",
       "4                1                           0          0             0   \n",
       "...            ...                         ...        ...           ...   \n",
       "106825           1                           0          0             0   \n",
       "106826           1                           0          0             0   \n",
       "106827           1                           0          0             0   \n",
       "106828           1                           0          0             0   \n",
       "106829           1                           0          0             0   \n",
       "\n",
       "        race_multiracial  race_native_american_alaska_native  race_other  \n",
       "0                      0                                   0           0  \n",
       "1                      0                                   0           0  \n",
       "2                      0                                   0           0  \n",
       "3                      0                                   0           0  \n",
       "4                      0                                   0           0  \n",
       "...                  ...                                 ...         ...  \n",
       "106825                 0                                   0           0  \n",
       "106826                 0                                   0           0  \n",
       "106827                 0                                   0           0  \n",
       "106828                 0                                   0           0  \n",
       "106829                 0                                   0           0  \n",
       "\n",
       "[106830 rows x 36 columns]"
      ]
     },
     "execution_count": 25,
     "metadata": {},
     "output_type": "execute_result"
    }
   ],
   "source": [
    "featuresClass = featuresClass.drop(['MentalDisorderTF', 'Race', 'Ethnicity', 'Gender', 'TraumaScreen', 'ResponseID', 'condition'], axis=1)\n",
    "featuresClass"
   ]
  },
  {
   "cell_type": "code",
   "execution_count": 26,
   "metadata": {},
   "outputs": [
    {
     "data": {
      "text/plain": [
       "(array([38250., 50730.,  8880.,  4470.,  1500.,   900.,  1200.,   300.,\n",
       "          300.,   300.]),\n",
       " array([ 260. ,  926.1, 1592.2, 2258.3, 2924.4, 3590.5, 4256.6, 4922.7,\n",
       "        5588.8, 6254.9, 6921. ]),\n",
       " <a list of 10 Patch objects>)"
      ]
     },
     "execution_count": 26,
     "metadata": {},
     "output_type": "execute_result"
    },
    {
     "data": {
      "image/png": "[encoded data removed]",
      "text/plain": [
       "<Figure size 432x288 with 1 Axes>"
      ]
     },
     "metadata": {
      "needs_background": "light"
     },
     "output_type": "display_data"
    }
   ],
   "source": [
    "plt.hist(featuresClass.DurationInSeconds)"
   ]
  },
  {
   "cell_type": "code",
   "execution_count": 27,
   "metadata": {},
   "outputs": [
    {
     "data": {
      "text/plain": [
       "Index(['threat_of_physical_injury', 'actual_physical_injury',\n",
       "       'threat_of_death', 'actual_death', 'sexual_content', 'physical_pain',\n",
       "       'human_perpetrator', 'close_int._perpetrator', 'close_int._victim',\n",
       "       'loss_of_possessions', 'threat_to_moral_identity',\n",
       "       'threat_to_social_status_or_other_identity',\n",
       "       'threat_to_moral_worldview',\n",
       "       'threat_to_trust_in_interpersonal_relationships', 'learned_about',\n",
       "       'witnessed', 'child', 'trial', 'DurationInSeconds', 'Religiosity',\n",
       "       'PoliticalOrientation', 'Age', 'mental_disorder_Yes',\n",
       "       'ethnicity_Non-hispanic', 'gender_Male', 'previous_trauma_Yes',\n",
       "       'exp_condition_High', 'exp_condition_Low', 'exp_condition_Stable',\n",
       "       'race_white', 'race_asian_pacific_islander', 'race_black',\n",
       "       'race_hispanic', 'race_multiracial',\n",
       "       'race_native_american_alaska_native', 'race_other'],\n",
       "      dtype='object')"
      ]
     },
     "execution_count": 27,
     "metadata": {},
     "output_type": "execute_result"
    }
   ],
   "source": [
    "featuresClass.columns"
   ]
  },
  {
   "cell_type": "markdown",
   "metadata": {},
   "source": [
    "# Define responses for classification model"
   ]
  },
  {
   "cell_type": "code",
   "execution_count": 28,
   "metadata": {},
   "outputs": [
    {
     "data": {
      "text/plain": [
       "0"
      ]
     },
     "execution_count": 28,
     "metadata": {},
     "output_type": "execute_result"
    }
   ],
   "source": [
    "sum(featuresClass.actual_physical_injury.isna())"
   ]
  },
  {
   "cell_type": "code",
   "execution_count": 29,
   "metadata": {},
   "outputs": [
    {
     "data": {
      "text/plain": [
       "106830"
      ]
     },
     "execution_count": 29,
     "metadata": {},
     "output_type": "execute_result"
    }
   ],
   "source": [
    "featuresClass['response'] = binData.loc[:,'response']\n",
    "\n",
    "responsesClass = featuresClass['response']\n",
    "featuresClass.drop('response', axis=1, inplace=True)\n",
    "len(responsesClass)"
   ]
  },
  {
   "cell_type": "markdown",
   "metadata": {},
   "source": [
    "# Random Forest Model"
   ]
  },
  {
   "cell_type": "code",
   "execution_count": 30,
   "metadata": {},
   "outputs": [],
   "source": [
    "X_train_class, X_test_class, y_train_class, y_test_class = train_test_split(featuresClass, responsesClass, test_size=0.2, random_state=111)"
   ]
  },
  {
   "cell_type": "code",
   "execution_count": 31,
   "metadata": {},
   "outputs": [
    {
     "data": {
      "text/plain": [
       "GridSearchCV(estimator=RandomForestClassifier(random_state=111), n_jobs=-1,\n",
       "             param_grid={'max_depth': [3, 8, 20, 50],\n",
       "                         'n_estimators': [50, 100, 200, 500],\n",
       "                         'random_state': [0]})"
      ]
     },
     "execution_count": 31,
     "metadata": {},
     "output_type": "execute_result"
    }
   ],
   "source": [
    "from sklearn.ensemble import RandomForestClassifier\n",
    "from sklearn.datasets import make_classification\n",
    "from sklearn.model_selection import GridSearchCV, cross_val_score\n",
    "\n",
    "param_grid = {\n",
    "    'max_depth': [3, 8, 20, 50],\n",
    "    'n_estimators': [50,100,200,500],\n",
    "    'random_state': [0]\n",
    "}\n",
    "# by default, uses 5-fold cross validation\n",
    "forest_cv = GridSearchCV(estimator=RandomForestClassifier(random_state=111), param_grid=param_grid,n_jobs=-1)\n",
    "\n",
    "forest_cv.fit(X_train_class, y_train_class)\n",
    "#forest_cv = pickle.load(open('pickles/forest_cv', 'rb'))"
   ]
  },
  {
   "cell_type": "code",
   "execution_count": 32,
   "metadata": {},
   "outputs": [
    {
     "data": {
      "text/plain": [
       "RandomForestClassifier(max_depth=20, n_estimators=500, random_state=0)"
      ]
     },
     "execution_count": 32,
     "metadata": {},
     "output_type": "execute_result"
    }
   ],
   "source": [
    "forest_cv.best_estimator_"
   ]
  },
  {
   "cell_type": "code",
   "execution_count": 33,
   "metadata": {},
   "outputs": [
    {
     "data": {
      "text/html": [
       "<div>\n",
       "<style scoped>\n",
       "    .dataframe tbody tr th:only-of-type {\n",
       "        vertical-align: middle;\n",
       "    }\n",
       "\n",
       "    .dataframe tbody tr th {\n",
       "        vertical-align: top;\n",
       "    }\n",
       "\n",
       "    .dataframe thead th {\n",
       "        text-align: right;\n",
       "    }\n",
       "</style>\n",
       "<table border=\"1\" class=\"dataframe\">\n",
       "  <thead>\n",
       "    <tr style=\"text-align: right;\">\n",
       "      <th></th>\n",
       "      <th>Feature Importance</th>\n",
       "    </tr>\n",
       "  </thead>\n",
       "  <tbody>\n",
       "    <tr>\n",
       "      <th>threat_of_physical_injury</th>\n",
       "      <td>0.03</td>\n",
       "    </tr>\n",
       "    <tr>\n",
       "      <th>actual_physical_injury</th>\n",
       "      <td>0.09</td>\n",
       "    </tr>\n",
       "    <tr>\n",
       "      <th>threat_of_death</th>\n",
       "      <td>0.08</td>\n",
       "    </tr>\n",
       "    <tr>\n",
       "      <th>actual_death</th>\n",
       "      <td>0.11</td>\n",
       "    </tr>\n",
       "    <tr>\n",
       "      <th>sexual_content</th>\n",
       "      <td>0.01</td>\n",
       "    </tr>\n",
       "    <tr>\n",
       "      <th>physical_pain</th>\n",
       "      <td>0.09</td>\n",
       "    </tr>\n",
       "    <tr>\n",
       "      <th>human_perpetrator</th>\n",
       "      <td>0.12</td>\n",
       "    </tr>\n",
       "    <tr>\n",
       "      <th>close_int._perpetrator</th>\n",
       "      <td>0.01</td>\n",
       "    </tr>\n",
       "    <tr>\n",
       "      <th>close_int._victim</th>\n",
       "      <td>0.04</td>\n",
       "    </tr>\n",
       "    <tr>\n",
       "      <th>loss_of_possessions</th>\n",
       "      <td>0.01</td>\n",
       "    </tr>\n",
       "    <tr>\n",
       "      <th>threat_to_moral_identity</th>\n",
       "      <td>0.02</td>\n",
       "    </tr>\n",
       "    <tr>\n",
       "      <th>threat_to_social_status_or_other_identity</th>\n",
       "      <td>0.03</td>\n",
       "    </tr>\n",
       "    <tr>\n",
       "      <th>threat_to_moral_worldview</th>\n",
       "      <td>0.07</td>\n",
       "    </tr>\n",
       "    <tr>\n",
       "      <th>threat_to_trust_in_interpersonal_relationships</th>\n",
       "      <td>0.02</td>\n",
       "    </tr>\n",
       "    <tr>\n",
       "      <th>learned_about</th>\n",
       "      <td>0.01</td>\n",
       "    </tr>\n",
       "    <tr>\n",
       "      <th>witnessed</th>\n",
       "      <td>0.01</td>\n",
       "    </tr>\n",
       "    <tr>\n",
       "      <th>child</th>\n",
       "      <td>0.01</td>\n",
       "    </tr>\n",
       "    <tr>\n",
       "      <th>trial</th>\n",
       "      <td>0.07</td>\n",
       "    </tr>\n",
       "    <tr>\n",
       "      <th>DurationInSeconds</th>\n",
       "      <td>0.04</td>\n",
       "    </tr>\n",
       "    <tr>\n",
       "      <th>Religiosity</th>\n",
       "      <td>0.01</td>\n",
       "    </tr>\n",
       "    <tr>\n",
       "      <th>PoliticalOrientation</th>\n",
       "      <td>0.02</td>\n",
       "    </tr>\n",
       "    <tr>\n",
       "      <th>Age</th>\n",
       "      <td>0.03</td>\n",
       "    </tr>\n",
       "    <tr>\n",
       "      <th>mental_disorder_Yes</th>\n",
       "      <td>0.00</td>\n",
       "    </tr>\n",
       "    <tr>\n",
       "      <th>ethnicity_Non-hispanic</th>\n",
       "      <td>0.00</td>\n",
       "    </tr>\n",
       "    <tr>\n",
       "      <th>gender_Male</th>\n",
       "      <td>0.01</td>\n",
       "    </tr>\n",
       "    <tr>\n",
       "      <th>previous_trauma_Yes</th>\n",
       "      <td>0.01</td>\n",
       "    </tr>\n",
       "    <tr>\n",
       "      <th>exp_condition_High</th>\n",
       "      <td>0.05</td>\n",
       "    </tr>\n",
       "    <tr>\n",
       "      <th>exp_condition_Low</th>\n",
       "      <td>0.00</td>\n",
       "    </tr>\n",
       "    <tr>\n",
       "      <th>exp_condition_Stable</th>\n",
       "      <td>0.01</td>\n",
       "    </tr>\n",
       "    <tr>\n",
       "      <th>race_white</th>\n",
       "      <td>0.00</td>\n",
       "    </tr>\n",
       "    <tr>\n",
       "      <th>race_asian_pacific_islander</th>\n",
       "      <td>0.00</td>\n",
       "    </tr>\n",
       "    <tr>\n",
       "      <th>race_black</th>\n",
       "      <td>0.00</td>\n",
       "    </tr>\n",
       "    <tr>\n",
       "      <th>race_hispanic</th>\n",
       "      <td>0.00</td>\n",
       "    </tr>\n",
       "    <tr>\n",
       "      <th>race_multiracial</th>\n",
       "      <td>0.00</td>\n",
       "    </tr>\n",
       "    <tr>\n",
       "      <th>race_native_american_alaska_native</th>\n",
       "      <td>0.00</td>\n",
       "    </tr>\n",
       "    <tr>\n",
       "      <th>race_other</th>\n",
       "      <td>0.00</td>\n",
       "    </tr>\n",
       "  </tbody>\n",
       "</table>\n",
       "</div>"
      ],
      "text/plain": [
       "                                                Feature Importance\n",
       "threat_of_physical_injury                                     0.03\n",
       "actual_physical_injury                                        0.09\n",
       "threat_of_death                                               0.08\n",
       "actual_death                                                  0.11\n",
       "sexual_content                                                0.01\n",
       "physical_pain                                                 0.09\n",
       "human_perpetrator                                             0.12\n",
       "close_int._perpetrator                                        0.01\n",
       "close_int._victim                                             0.04\n",
       "loss_of_possessions                                           0.01\n",
       "threat_to_moral_identity                                      0.02\n",
       "threat_to_social_status_or_other_identity                     0.03\n",
       "threat_to_moral_worldview                                     0.07\n",
       "threat_to_trust_in_interpersonal_relationships                0.02\n",
       "learned_about                                                 0.01\n",
       "witnessed                                                     0.01\n",
       "child                                                         0.01\n",
       "trial                                                         0.07\n",
       "DurationInSeconds                                             0.04\n",
       "Religiosity                                                   0.01\n",
       "PoliticalOrientation                                          0.02\n",
       "Age                                                           0.03\n",
       "mental_disorder_Yes                                           0.00\n",
       "ethnicity_Non-hispanic                                        0.00\n",
       "gender_Male                                                   0.01\n",
       "previous_trauma_Yes                                           0.01\n",
       "exp_condition_High                                            0.05\n",
       "exp_condition_Low                                             0.00\n",
       "exp_condition_Stable                                          0.01\n",
       "race_white                                                    0.00\n",
       "race_asian_pacific_islander                                   0.00\n",
       "race_black                                                    0.00\n",
       "race_hispanic                                                 0.00\n",
       "race_multiracial                                              0.00\n",
       "race_native_american_alaska_native                            0.00\n",
       "race_other                                                    0.00"
      ]
     },
     "execution_count": 33,
     "metadata": {},
     "output_type": "execute_result"
    }
   ],
   "source": [
    "forest = forest_cv.best_estimator_\n",
    "forest_importance = pd.DataFrame(forest.feature_importances_, featuresClass.columns, columns=['Feature Importance'])  \n",
    "forest_importance"
   ]
  },
  {
   "cell_type": "code",
   "execution_count": 34,
   "metadata": {},
   "outputs": [
    {
     "name": "stdout",
     "output_type": "stream",
     "text": [
      "0.9628615557427689\n"
     ]
    },
    {
     "data": {
      "image/png": "[encoded data removed]",
      "text/plain": [
       "<Figure size 432x288 with 1 Axes>"
      ]
     },
     "metadata": {
      "needs_background": "light"
     },
     "output_type": "display_data"
    }
   ],
   "source": [
    "# Accuracy\n",
    "random_forest_score = forest_cv.score(X_train_class,y_train_class)\n",
    "print(random_forest_score)\n",
    "\n",
    "import matplotlib.pyplot as plt\n",
    "metrics.plot_roc_curve(forest_cv, X_train_class, y_train_class)\n",
    "plt.show()"
   ]
  },
  {
   "cell_type": "markdown",
   "metadata": {},
   "source": [
    "# Basic Neural Net (Multilayer Perceptron)"
   ]
  },
  {
   "cell_type": "code",
   "execution_count": 35,
   "metadata": {},
   "outputs": [],
   "source": [
    "from sklearn.neural_network import MLPClassifier\n",
    "from sklearn.pipeline import make_pipeline\n",
    "from sklearn.preprocessing import StandardScaler\n",
    "from sklearn.model_selection import GridSearchCV, cross_val_score"
   ]
  },
  {
   "cell_type": "code",
   "execution_count": 36,
   "metadata": {},
   "outputs": [
    {
     "name": "stderr",
     "output_type": "stream",
     "text": [
      "/Library/Frameworks/Python.framework/Versions/3.8/lib/python3.8/site-packages/sklearn/neural_network/_multilayer_perceptron.py:471: ConvergenceWarning: lbfgs failed to converge (status=1):\n",
      "STOP: TOTAL NO. of ITERATIONS REACHED LIMIT.\n",
      "\n",
      "Increase the number of iterations (max_iter) or scale the data as shown in:\n",
      "    https://scikit-learn.org/stable/modules/preprocessing.html\n",
      "  self.n_iter_ = _check_optimize_result(\"lbfgs\", opt_res, self.max_iter)\n"
     ]
    },
    {
     "data": {
      "text/plain": [
       "GridSearchCV(estimator=Pipeline(steps=[('standardscaler', StandardScaler()),\n",
       "                                       ('mlpclassifier',\n",
       "                                        MLPClassifier(random_state=111))]),\n",
       "             n_jobs=-1,\n",
       "             param_grid={'mlpclassifier__alpha': [0.0001, 0.05, 1, 10, 50],\n",
       "                         'mlpclassifier__hidden_layer_sizes': [(10, 5),\n",
       "                                                               (10, 10),\n",
       "                                                               (10, 10, 10)],\n",
       "                         'mlpclassifier__max_iter': [1000],\n",
       "                         'mlpclassifier__random_state': [0],\n",
       "                         'mlpclassifier__solver': ['lbfgs']})"
      ]
     },
     "execution_count": 36,
     "metadata": {},
     "output_type": "execute_result"
    }
   ],
   "source": [
    "mlp = make_pipeline(StandardScaler(), MLPClassifier(random_state=111))\n",
    "\n",
    "param_grid = {\n",
    "    'mlpclassifier__alpha': [0.0001, 0.05, 1, 10, 50],\n",
    "    'mlpclassifier__hidden_layer_sizes': [(10,5), (10, 10), (10,10,10)],\n",
    "    'mlpclassifier__random_state': [0],\n",
    "    'mlpclassifier__max_iter': [1000],\n",
    "    'mlpclassifier__solver': ['lbfgs']\n",
    "}\n",
    "# by default, uses 5-fold cross validation\n",
    "mlp_cv = GridSearchCV(estimator=mlp, param_grid=param_grid, n_jobs=-1)\n",
    "\n",
    "mlp_cv.fit(X_train_class, y_train_class)\n",
    "#mlp_cv = pickle.load(open('pickles/mlp_cv', 'rb'))"
   ]
  },
  {
   "cell_type": "code",
   "execution_count": 37,
   "metadata": {},
   "outputs": [
    {
     "data": {
      "text/plain": [
       "Pipeline(steps=[('standardscaler', StandardScaler()),\n",
       "                ('mlpclassifier',\n",
       "                 MLPClassifier(alpha=50, hidden_layer_sizes=(10, 10, 10),\n",
       "                               max_iter=1000, random_state=0,\n",
       "                               solver='lbfgs'))])"
      ]
     },
     "execution_count": 37,
     "metadata": {},
     "output_type": "execute_result"
    }
   ],
   "source": [
    "mlp_cv.best_estimator_"
   ]
  },
  {
   "cell_type": "code",
   "execution_count": 38,
   "metadata": {},
   "outputs": [
    {
     "name": "stdout",
     "output_type": "stream",
     "text": [
      "0.8994430403444725\n"
     ]
    },
    {
     "data": {
      "image/png": "[encoded data removed]",
      "text/plain": [
       "<Figure size 432x288 with 1 Axes>"
      ]
     },
     "metadata": {
      "needs_background": "light"
     },
     "output_type": "display_data"
    }
   ],
   "source": [
    "# Accuracy\n",
    "mlp_score = mlp_cv.score(X_train_class,y_train_class)\n",
    "\n",
    "print(mlp_score)\n",
    "\n",
    "import matplotlib.pyplot as plt\n",
    "metrics.plot_roc_curve(mlp_cv, X_train_class, y_train_class)\n",
    "plt.show()"
   ]
  },
  {
   "cell_type": "markdown",
   "metadata": {},
   "source": [
    "# AdaBoost"
   ]
  },
  {
   "cell_type": "code",
   "execution_count": 39,
   "metadata": {},
   "outputs": [],
   "source": [
    "from sklearn.ensemble import AdaBoostClassifier"
   ]
  },
  {
   "cell_type": "code",
   "execution_count": 40,
   "metadata": {},
   "outputs": [
    {
     "data": {
      "text/plain": [
       "GridSearchCV(estimator=AdaBoostClassifier(random_state=111), n_jobs=-1,\n",
       "             param_grid={'n_estimators': [10, 100, 500, 1000],\n",
       "                         'random_state': [0]})"
      ]
     },
     "execution_count": 40,
     "metadata": {},
     "output_type": "execute_result"
    }
   ],
   "source": [
    "from sklearn.model_selection import GridSearchCV, cross_val_score\n",
    "\n",
    "param_grid = {\n",
    "    'n_estimators': [10,100,500,1000],\n",
    "    'random_state': [0]\n",
    "}\n",
    "# by default, uses 5-fold cross validation\n",
    "adaboost_cv = GridSearchCV(estimator=AdaBoostClassifier(random_state=111), param_grid=param_grid,n_jobs=-1)\n",
    "\n",
    "adaboost_cv.fit(X_train_class, y_train_class)\n",
    "#adaboost_cv = pickle.load(open('pickles/adaboost_cv', 'rb'))"
   ]
  },
  {
   "cell_type": "code",
   "execution_count": 41,
   "metadata": {},
   "outputs": [
    {
     "data": {
      "text/plain": [
       "AdaBoostClassifier(n_estimators=1000, random_state=0)"
      ]
     },
     "execution_count": 41,
     "metadata": {},
     "output_type": "execute_result"
    }
   ],
   "source": [
    "adaboost_cv.best_estimator_"
   ]
  },
  {
   "cell_type": "code",
   "execution_count": 42,
   "metadata": {},
   "outputs": [
    {
     "name": "stdout",
     "output_type": "stream",
     "text": [
      "0.8786857624262847\n"
     ]
    },
    {
     "data": {
      "image/png": "[encoded data removed]",
      "text/plain": [
       "<Figure size 432x288 with 1 Axes>"
      ]
     },
     "metadata": {
      "needs_background": "light"
     },
     "output_type": "display_data"
    }
   ],
   "source": [
    "# Accuracy\n",
    "adaboost_score = adaboost_cv.score(X_train_class,y_train_class)\n",
    "print(adaboost_score)\n",
    "\n",
    "import matplotlib.pyplot as plt\n",
    "metrics.plot_roc_curve(adaboost_cv, X_train_class, y_train_class)\n",
    "plt.show()"
   ]
  },
  {
   "cell_type": "markdown",
   "metadata": {},
   "source": [
    "# Determine Best Classification Model by Examining Test Data"
   ]
  },
  {
   "cell_type": "code",
   "execution_count": 43,
   "metadata": {},
   "outputs": [
    {
     "name": "stdout",
     "output_type": "stream",
     "text": [
      "0.8982027520359449\n"
     ]
    },
    {
     "data": {
      "image/png": "[encoded data removed]",
      "text/plain": [
       "<Figure size 432x288 with 1 Axes>"
      ]
     },
     "metadata": {
      "needs_background": "light"
     },
     "output_type": "display_data"
    },
    {
     "data": {
      "text/plain": [
       "<Figure size 432x288 with 0 Axes>"
      ]
     },
     "metadata": {},
     "output_type": "display_data"
    }
   ],
   "source": [
    "random_forest_score_test = forest_cv.score(X_test_class,y_test_class)\n",
    "print(random_forest_score_test)\n",
    "\n",
    "import matplotlib.pyplot as plt\n",
    "metrics.plot_roc_curve(forest_cv, X_test_class, y_test_class)\n",
    "plt.savefig('figs/random_forest_roc.png')"
   ]
  },
  {
   "cell_type": "code",
   "execution_count": 44,
   "metadata": {},
   "outputs": [
    {
     "name": "stdout",
     "output_type": "stream",
     "text": [
      "0.8969390620612188\n"
     ]
    },
    {
     "data": {
      "image/png": "[encoded data removed]",
      "text/plain": [
       "<Figure size 432x288 with 1 Axes>"
      ]
     },
     "metadata": {
      "needs_background": "light"
     },
     "output_type": "display_data"
    }
   ],
   "source": [
    "mlp_score_test = mlp_cv.score(X_test_class,y_test_class)\n",
    "print(mlp_score_test)\n",
    "\n",
    "import matplotlib.pyplot as plt\n",
    "metrics.plot_roc_curve(mlp_cv, X_test_class, y_test_class)\n",
    "plt.show()"
   ]
  },
  {
   "cell_type": "code",
   "execution_count": 45,
   "metadata": {},
   "outputs": [
    {
     "name": "stdout",
     "output_type": "stream",
     "text": [
      "0.8796686324066274\n"
     ]
    },
    {
     "data": {
      "image/png": "[encoded data removed]",
      "text/plain": [
       "<Figure size 432x288 with 1 Axes>"
      ]
     },
     "metadata": {
      "needs_background": "light"
     },
     "output_type": "display_data"
    }
   ],
   "source": [
    "adaboost_score_test = adaboost_cv.score(X_test_class,y_test_class)\n",
    "print(adaboost_score_test)\n",
    "\n",
    "import matplotlib.pyplot as plt\n",
    "metrics.plot_roc_curve(adaboost_cv, X_test_class, y_test_class)\n",
    "plt.show()"
   ]
  },
  {
   "cell_type": "markdown",
   "metadata": {},
   "source": [
    "# Feature Importance of Best Classification Model"
   ]
  },
  {
   "cell_type": "code",
   "execution_count": 46,
   "metadata": {},
   "outputs": [
    {
     "name": "stderr",
     "output_type": "stream",
     "text": [
      "<ipython-input-46-ce18930e7fad>:16: RuntimeWarning: More than 20 figures have been opened. Figures created through the pyplot interface (`matplotlib.pyplot.figure`) are retained until explicitly closed and may consume too much memory. (To control this warning, see the rcParam `figure.max_open_warning`).\n",
      "  fig = plt.figure()\n",
      "<ipython-input-46-ce18930e7fad>:16: RuntimeWarning: More than 20 figures have been opened. Figures created through the pyplot interface (`matplotlib.pyplot.figure`) are retained until explicitly closed and may consume too much memory. (To control this warning, see the rcParam `figure.max_open_warning`).\n",
      "  fig = plt.figure()\n",
      "<ipython-input-46-ce18930e7fad>:16: RuntimeWarning: More than 20 figures have been opened. Figures created through the pyplot interface (`matplotlib.pyplot.figure`) are retained until explicitly closed and may consume too much memory. (To control this warning, see the rcParam `figure.max_open_warning`).\n",
      "  fig = plt.figure()\n"
     ]
    },
    {
     "data": {
      "image/png": "[encoded data removed]",
      "text/plain": [
       "<Figure size 432x288 with 1 Axes>"
      ]
     },
     "metadata": {
      "needs_background": "light"
     },
     "output_type": "display_data"
    },
    {
     "data": {
      "image/png": "[encoded data removed]",
      "text/plain": [
       "<Figure size 432x288 with 1 Axes>"
      ]
     },
     "metadata": {
      "needs_background": "light"
     },
     "output_type": "display_data"
    },
    {
     "data": {
      "image/png": "[encoded data removed]",
      "text/plain": [
       "<Figure size 432x288 with 1 Axes>"
      ]
     },
     "metadata": {
      "needs_background": "light"
     },
     "output_type": "display_data"
    },
    {
     "data": {
      "image/png": "[encoded data removed]",
      "text/plain": [
       "<Figure size 432x288 with 1 Axes>"
      ]
     },
     "metadata": {
      "needs_background": "light"
     },
     "output_type": "display_data"
    },
    {
     "data": {
      "image/png": "[encoded data removed]",
      "text/plain": [
       "<Figure size 432x288 with 1 Axes>"
      ]
     },
     "metadata": {
      "needs_background": "light"
     },
     "output_type": "display_data"
    },
    {
     "data": {
      "image/png": "[encoded data removed]",
      "text/plain": [
       "<Figure size 432x288 with 1 Axes>"
      ]
     },
     "metadata": {
      "needs_background": "light"
     },
     "output_type": "display_data"
    },
    {
     "data": {
      "image/png": "[encoded data removed]",
      "text/plain": [
       "<Figure size 432x288 with 1 Axes>"
      ]
     },
     "metadata": {
      "needs_background": "light"
     },
     "output_type": "display_data"
    },
    {
     "data": {
      "image/png": "[encoded data removed]",
      "text/plain": [
       "<Figure size 432x288 with 1 Axes>"
      ]
     },
     "metadata": {
      "needs_background": "light"
     },
     "output_type": "display_data"
    },
    {
     "data": {
      "image/png": "[encoded data removed]",
      "text/plain": [
       "<Figure size 432x288 with 1 Axes>"
      ]
     },
     "metadata": {
      "needs_background": "light"
     },
     "output_type": "display_data"
    },
    {
     "data": {
      "image/png": "[encoded data removed]",
      "text/plain": [
       "<Figure size 432x288 with 1 Axes>"
      ]
     },
     "metadata": {
      "needs_background": "light"
     },
     "output_type": "display_data"
    },
    {
     "data": {
      "image/png": "[encoded data removed]",
      "text/plain": [
       "<Figure size 432x288 with 1 Axes>"
      ]
     },
     "metadata": {
      "needs_background": "light"
     },
     "output_type": "display_data"
    },
    {
     "data": {
      "image/png": "[encoded data removed]",
      "text/plain": [
       "<Figure size 432x288 with 1 Axes>"
      ]
     },
     "metadata": {
      "needs_background": "light"
     },
     "output_type": "display_data"
    },
    {
     "data": {
      "image/png": "[encoded data removed]",
      "text/plain": [
       "<Figure size 432x288 with 1 Axes>"
      ]
     },
     "metadata": {
      "needs_background": "light"
     },
     "output_type": "display_data"
    },
    {
     "data": {
      "image/png": "[encoded data removed]",
      "text/plain": [
       "<Figure size 432x288 with 1 Axes>"
      ]
     },
     "metadata": {
      "needs_background": "light"
     },
     "output_type": "display_data"
    },
    {
     "data": {
      "image/png": "[encoded data removed]",
      "text/plain": [
       "<Figure size 432x288 with 1 Axes>"
      ]
     },
     "metadata": {
      "needs_background": "light"
     },
     "output_type": "display_data"
    },
    {
     "data": {
      "image/png": "[encoded data removed]",
      "text/plain": [
       "<Figure size 432x288 with 1 Axes>"
      ]
     },
     "metadata": {
      "needs_background": "light"
     },
     "output_type": "display_data"
    },
    {
     "data": {
      "image/png": "[encoded data removed]",
      "text/plain": [
       "<Figure size 432x288 with 1 Axes>"
      ]
     },
     "metadata": {
      "needs_background": "light"
     },
     "output_type": "display_data"
    },
    {
     "data": {
      "image/png": "[encoded data removed]",
      "text/plain": [
       "<Figure size 432x288 with 1 Axes>"
      ]
     },
     "metadata": {
      "needs_background": "light"
     },
     "output_type": "display_data"
    },
    {
     "data": {
      "image/png": "[encoded data removed]",
      "text/plain": [
       "<Figure size 432x288 with 1 Axes>"
      ]
     },
     "metadata": {
      "needs_background": "light"
     },
     "output_type": "display_data"
    },
    {
     "data": {
      "image/png": "[encoded data removed]",
      "text/plain": [
       "<Figure size 432x288 with 1 Axes>"
      ]
     },
     "metadata": {
      "needs_background": "light"
     },
     "output_type": "display_data"
    },
    {
     "data": {
      "image/png": "[encoded data removed]",
      "text/plain": [
       "<Figure size 432x288 with 1 Axes>"
      ]
     },
     "metadata": {
      "needs_background": "light"
     },
     "output_type": "display_data"
    },
    {
     "data": {
      "image/png": "[encoded data removed]",
      "text/plain": [
       "<Figure size 432x288 with 1 Axes>"
      ]
     },
     "metadata": {
      "needs_background": "light"
     },
     "output_type": "display_data"
    },
    {
     "data": {
      "image/png": "[encoded data removed]",
      "text/plain": [
       "<Figure size 432x288 with 1 Axes>"
      ]
     },
     "metadata": {
      "needs_background": "light"
     },
     "output_type": "display_data"
    },
    {
     "data": {
      "image/png": "[encoded data removed]",
      "text/plain": [
       "<Figure size 432x288 with 1 Axes>"
      ]
     },
     "metadata": {
      "needs_background": "light"
     },
     "output_type": "display_data"
    },
    {
     "data": {
      "image/png": "[encoded data removed]",
      "text/plain": [
       "<Figure size 432x288 with 1 Axes>"
      ]
     },
     "metadata": {
      "needs_background": "light"
     },
     "output_type": "display_data"
    },
    {
     "data": {
      "image/png": "[encoded data removed]",
      "text/plain": [
       "<Figure size 432x288 with 1 Axes>"
      ]
     },
     "metadata": {
      "needs_background": "light"
     },
     "output_type": "display_data"
    },
    {
     "data": {
      "image/png": "[encoded data removed]",
      "text/plain": [
       "<Figure size 432x288 with 1 Axes>"
      ]
     },
     "metadata": {
      "needs_background": "light"
     },
     "output_type": "display_data"
    },
    {
     "data": {
      "image/png": "[encoded data removed]",
      "text/plain": [
       "<Figure size 432x288 with 1 Axes>"
      ]
     },
     "metadata": {
      "needs_background": "light"
     },
     "output_type": "display_data"
    },
    {
     "data": {
      "image/png": "[encoded data removed]",
      "text/plain": [
       "<Figure size 432x288 with 1 Axes>"
      ]
     },
     "metadata": {
      "needs_background": "light"
     },
     "output_type": "display_data"
    },
    {
     "data": {
      "image/png": "[encoded data removed]",
      "text/plain": [
       "<Figure size 432x288 with 1 Axes>"
      ]
     },
     "metadata": {
      "needs_background": "light"
     },
     "output_type": "display_data"
    },
    {
     "data": {
      "image/png": "[encoded data removed]",
      "text/plain": [
       "<Figure size 432x288 with 1 Axes>"
      ]
     },
     "metadata": {
      "needs_background": "light"
     },
     "output_type": "display_data"
    },
    {
     "data": {
      "image/png": "[encoded data removed]",
      "text/plain": [
       "<Figure size 432x288 with 1 Axes>"
      ]
     },
     "metadata": {
      "needs_background": "light"
     },
     "output_type": "display_data"
    }
   ],
   "source": [
    "from sklearn.inspection import plot_partial_dependence\n",
    "from sklearn.inspection import partial_dependence\n",
    "\n",
    "best_model = forest_cv\n",
    "\n",
    "partialdep = list()\n",
    "for i in range(32):\n",
    "    partialdep.append(partial_dependence(best_model, X_train_class, features=[i]))\n",
    "#partialdep = pickle.load(open('pickles/partialdep','rb'))\n",
    "\n",
    "def smart_plot_partial_dependence(pd_out, pd_features, i=0):\n",
    "    x = pd_out[i][1][0]\n",
    "    y = pd_out[i][0][0]\n",
    "    name = pd_features.columns[i]\n",
    "    \n",
    "    fig = plt.figure()\n",
    "    ax = fig.add_axes([0.1,0.1,0.75,0.75]) # axis starts at 0.1, 0.1\n",
    "    if len(y) == 2:\n",
    "        labs = [str(val) for val in x]\n",
    "        heights = y\n",
    "        ax.bar(labs,heights)\n",
    "    if len(y) > 2:\n",
    "        plt.plot(x, y)\n",
    "    plt.title(name)\n",
    "    #plt.show()\n",
    "    plt.savefig('partial_dep/' + name + '_partial_dep.png')\n",
    "\n",
    "for i in range(32):\n",
    "    smart_plot_partial_dependence(partialdep, X_train_class, i) "
   ]
  },
  {
   "cell_type": "code",
   "execution_count": 47,
   "metadata": {},
   "outputs": [
    {
     "data": {
      "text/plain": [
       "{'importances_mean': array([ 0.00778651,  0.06499111,  0.04837904,  0.07838466,  0.00194546,\n",
       "         0.00776155,  0.01425005,  0.00133389,  0.00237449,  0.00190022,\n",
       "         0.00122937,  0.00855877,  0.00692845,  0.02431433,  0.00158819,\n",
       "         0.00187369, -0.000039  ,  0.00272239,  0.00104059,  0.0002543 ,\n",
       "         0.00136042,  0.00190178, -0.00016381,  0.00002184,  0.00189866,\n",
       "         0.00045399,  0.03161565, -0.00004056,  0.0005554 , -0.00043371,\n",
       "        -0.00009361, -0.00065525,  0.00008737,  0.00000624, -0.00003432,\n",
       "        -0.0000468 ]),\n",
       " 'importances_std': array([0.0006769 , 0.00094774, 0.00115932, 0.00165663, 0.0002425 ,\n",
       "        0.00088011, 0.00098863, 0.00016994, 0.00056526, 0.00022105,\n",
       "        0.00026966, 0.00050636, 0.00071406, 0.00092751, 0.000289  ,\n",
       "        0.00040343, 0.00016965, 0.00083042, 0.00062766, 0.00054924,\n",
       "        0.00053745, 0.00075734, 0.0004156 , 0.00023047, 0.00055374,\n",
       "        0.00036578, 0.0009733 , 0.00022077, 0.00042464, 0.00036573,\n",
       "        0.00014501, 0.00027847, 0.0001695 , 0.00005503, 0.000065  ,\n",
       "        0.00002417]),\n",
       " 'importances': array([[ 0.00734812,  0.00903304,  0.00730132, ...,  0.00805017,\n",
       "          0.00758214,  0.00664607],\n",
       "        [ 0.06407376,  0.06505663,  0.0645886 , ...,  0.06571188,\n",
       "          0.06435458,  0.06496303],\n",
       "        [ 0.04759899,  0.04942432,  0.04722456, ...,  0.04755219,\n",
       "          0.04844145,  0.04614809],\n",
       "        ...,\n",
       "        [-0.0000468 , -0.0000468 ,  0.00009361, ...,  0.0000468 ,\n",
       "          0.        ,  0.        ],\n",
       "        [-0.00009361, -0.0000468 ,  0.        , ...,  0.0000468 ,\n",
       "          0.0000468 ,  0.        ],\n",
       "        [-0.0000468 , -0.0000468 , -0.0000468 , ...,  0.0000468 ,\n",
       "         -0.0000468 , -0.00009361]])}"
      ]
     },
     "execution_count": 47,
     "metadata": {},
     "output_type": "execute_result"
    }
   ],
   "source": [
    "from sklearn.inspection import permutation_importance\n",
    "perm_imp = permutation_importance(best_model, X_test_class, y_test_class,\n",
    "                                  n_repeats=30,\n",
    "                                  random_state=111)\n",
    "# perm_imp = pickle.load(open('pickles/perm_imp', 'rb'))\n",
    "perm_imp"
   ]
  },
  {
   "cell_type": "code",
   "execution_count": 48,
   "metadata": {},
   "outputs": [
    {
     "data": {
      "text/html": [
       "<div>\n",
       "<style scoped>\n",
       "    .dataframe tbody tr th:only-of-type {\n",
       "        vertical-align: middle;\n",
       "    }\n",
       "\n",
       "    .dataframe tbody tr th {\n",
       "        vertical-align: top;\n",
       "    }\n",
       "\n",
       "    .dataframe thead th {\n",
       "        text-align: right;\n",
       "    }\n",
       "</style>\n",
       "<table border=\"1\" class=\"dataframe\">\n",
       "  <thead>\n",
       "    <tr style=\"text-align: right;\">\n",
       "      <th></th>\n",
       "      <th>mean</th>\n",
       "      <th>sd</th>\n",
       "    </tr>\n",
       "  </thead>\n",
       "  <tbody>\n",
       "    <tr>\n",
       "      <th>actual_death</th>\n",
       "      <td>0.08</td>\n",
       "      <td>0.00</td>\n",
       "    </tr>\n",
       "    <tr>\n",
       "      <th>actual_physical_injury</th>\n",
       "      <td>0.06</td>\n",
       "      <td>0.00</td>\n",
       "    </tr>\n",
       "    <tr>\n",
       "      <th>threat_of_death</th>\n",
       "      <td>0.05</td>\n",
       "      <td>0.00</td>\n",
       "    </tr>\n",
       "    <tr>\n",
       "      <th>exp_condition_High</th>\n",
       "      <td>0.03</td>\n",
       "      <td>0.00</td>\n",
       "    </tr>\n",
       "    <tr>\n",
       "      <th>threat_to_trust_in_interpersonal_relationships</th>\n",
       "      <td>0.02</td>\n",
       "      <td>0.00</td>\n",
       "    </tr>\n",
       "    <tr>\n",
       "      <th>human_perpetrator</th>\n",
       "      <td>0.01</td>\n",
       "      <td>0.00</td>\n",
       "    </tr>\n",
       "    <tr>\n",
       "      <th>threat_to_social_status_or_other_identity</th>\n",
       "      <td>0.01</td>\n",
       "      <td>0.00</td>\n",
       "    </tr>\n",
       "    <tr>\n",
       "      <th>threat_of_physical_injury</th>\n",
       "      <td>0.01</td>\n",
       "      <td>0.00</td>\n",
       "    </tr>\n",
       "    <tr>\n",
       "      <th>physical_pain</th>\n",
       "      <td>0.01</td>\n",
       "      <td>0.00</td>\n",
       "    </tr>\n",
       "    <tr>\n",
       "      <th>threat_to_moral_worldview</th>\n",
       "      <td>0.01</td>\n",
       "      <td>0.00</td>\n",
       "    </tr>\n",
       "    <tr>\n",
       "      <th>trial</th>\n",
       "      <td>0.00</td>\n",
       "      <td>0.00</td>\n",
       "    </tr>\n",
       "    <tr>\n",
       "      <th>close_int._victim</th>\n",
       "      <td>0.00</td>\n",
       "      <td>0.00</td>\n",
       "    </tr>\n",
       "    <tr>\n",
       "      <th>sexual_content</th>\n",
       "      <td>0.00</td>\n",
       "      <td>0.00</td>\n",
       "    </tr>\n",
       "    <tr>\n",
       "      <th>Age</th>\n",
       "      <td>0.00</td>\n",
       "      <td>0.00</td>\n",
       "    </tr>\n",
       "    <tr>\n",
       "      <th>loss_of_possessions</th>\n",
       "      <td>0.00</td>\n",
       "      <td>0.00</td>\n",
       "    </tr>\n",
       "    <tr>\n",
       "      <th>gender_Male</th>\n",
       "      <td>0.00</td>\n",
       "      <td>0.00</td>\n",
       "    </tr>\n",
       "    <tr>\n",
       "      <th>witnessed</th>\n",
       "      <td>0.00</td>\n",
       "      <td>0.00</td>\n",
       "    </tr>\n",
       "    <tr>\n",
       "      <th>learned_about</th>\n",
       "      <td>0.00</td>\n",
       "      <td>0.00</td>\n",
       "    </tr>\n",
       "    <tr>\n",
       "      <th>PoliticalOrientation</th>\n",
       "      <td>0.00</td>\n",
       "      <td>0.00</td>\n",
       "    </tr>\n",
       "    <tr>\n",
       "      <th>close_int._perpetrator</th>\n",
       "      <td>0.00</td>\n",
       "      <td>0.00</td>\n",
       "    </tr>\n",
       "    <tr>\n",
       "      <th>threat_to_moral_identity</th>\n",
       "      <td>0.00</td>\n",
       "      <td>0.00</td>\n",
       "    </tr>\n",
       "    <tr>\n",
       "      <th>DurationInSeconds</th>\n",
       "      <td>0.00</td>\n",
       "      <td>0.00</td>\n",
       "    </tr>\n",
       "    <tr>\n",
       "      <th>exp_condition_Stable</th>\n",
       "      <td>0.00</td>\n",
       "      <td>0.00</td>\n",
       "    </tr>\n",
       "    <tr>\n",
       "      <th>previous_trauma_Yes</th>\n",
       "      <td>0.00</td>\n",
       "      <td>0.00</td>\n",
       "    </tr>\n",
       "    <tr>\n",
       "      <th>Religiosity</th>\n",
       "      <td>0.00</td>\n",
       "      <td>0.00</td>\n",
       "    </tr>\n",
       "    <tr>\n",
       "      <th>race_hispanic</th>\n",
       "      <td>0.00</td>\n",
       "      <td>0.00</td>\n",
       "    </tr>\n",
       "    <tr>\n",
       "      <th>ethnicity_Non-hispanic</th>\n",
       "      <td>0.00</td>\n",
       "      <td>0.00</td>\n",
       "    </tr>\n",
       "    <tr>\n",
       "      <th>race_multiracial</th>\n",
       "      <td>0.00</td>\n",
       "      <td>0.00</td>\n",
       "    </tr>\n",
       "    <tr>\n",
       "      <th>race_native_american_alaska_native</th>\n",
       "      <td>-0.00</td>\n",
       "      <td>0.00</td>\n",
       "    </tr>\n",
       "    <tr>\n",
       "      <th>child</th>\n",
       "      <td>-0.00</td>\n",
       "      <td>0.00</td>\n",
       "    </tr>\n",
       "    <tr>\n",
       "      <th>exp_condition_Low</th>\n",
       "      <td>-0.00</td>\n",
       "      <td>0.00</td>\n",
       "    </tr>\n",
       "    <tr>\n",
       "      <th>race_other</th>\n",
       "      <td>-0.00</td>\n",
       "      <td>0.00</td>\n",
       "    </tr>\n",
       "    <tr>\n",
       "      <th>race_asian_pacific_islander</th>\n",
       "      <td>-0.00</td>\n",
       "      <td>0.00</td>\n",
       "    </tr>\n",
       "    <tr>\n",
       "      <th>mental_disorder_Yes</th>\n",
       "      <td>-0.00</td>\n",
       "      <td>0.00</td>\n",
       "    </tr>\n",
       "    <tr>\n",
       "      <th>race_white</th>\n",
       "      <td>-0.00</td>\n",
       "      <td>0.00</td>\n",
       "    </tr>\n",
       "    <tr>\n",
       "      <th>race_black</th>\n",
       "      <td>-0.00</td>\n",
       "      <td>0.00</td>\n",
       "    </tr>\n",
       "  </tbody>\n",
       "</table>\n",
       "</div>"
      ],
      "text/plain": [
       "                                                mean   sd\n",
       "actual_death                                    0.08 0.00\n",
       "actual_physical_injury                          0.06 0.00\n",
       "threat_of_death                                 0.05 0.00\n",
       "exp_condition_High                              0.03 0.00\n",
       "threat_to_trust_in_interpersonal_relationships  0.02 0.00\n",
       "human_perpetrator                               0.01 0.00\n",
       "threat_to_social_status_or_other_identity       0.01 0.00\n",
       "threat_of_physical_injury                       0.01 0.00\n",
       "physical_pain                                   0.01 0.00\n",
       "threat_to_moral_worldview                       0.01 0.00\n",
       "trial                                           0.00 0.00\n",
       "close_int._victim                               0.00 0.00\n",
       "sexual_content                                  0.00 0.00\n",
       "Age                                             0.00 0.00\n",
       "loss_of_possessions                             0.00 0.00\n",
       "gender_Male                                     0.00 0.00\n",
       "witnessed                                       0.00 0.00\n",
       "learned_about                                   0.00 0.00\n",
       "PoliticalOrientation                            0.00 0.00\n",
       "close_int._perpetrator                          0.00 0.00\n",
       "threat_to_moral_identity                        0.00 0.00\n",
       "DurationInSeconds                               0.00 0.00\n",
       "exp_condition_Stable                            0.00 0.00\n",
       "previous_trauma_Yes                             0.00 0.00\n",
       "Religiosity                                     0.00 0.00\n",
       "race_hispanic                                   0.00 0.00\n",
       "ethnicity_Non-hispanic                          0.00 0.00\n",
       "race_multiracial                                0.00 0.00\n",
       "race_native_american_alaska_native             -0.00 0.00\n",
       "child                                          -0.00 0.00\n",
       "exp_condition_Low                              -0.00 0.00\n",
       "race_other                                     -0.00 0.00\n",
       "race_asian_pacific_islander                    -0.00 0.00\n",
       "mental_disorder_Yes                            -0.00 0.00\n",
       "race_white                                     -0.00 0.00\n",
       "race_black                                     -0.00 0.00"
      ]
     },
     "execution_count": 48,
     "metadata": {},
     "output_type": "execute_result"
    }
   ],
   "source": [
    "perm_imp_frame = pd.DataFrame(data={'mean': perm_imp.importances_mean,\n",
    "                                   'sd': perm_imp.importances_std}, \n",
    "                              index=featuresClass.columns)  \n",
    "perm_imp_frame.sort_values('mean', ascending=False)"
   ]
  },
  {
   "cell_type": "code",
   "execution_count": 49,
   "metadata": {},
   "outputs": [
    {
     "data": {
      "image/png": "[encoded data removed]",
      "text/plain": [
       "<Figure size 864x576 with 1 Axes>"
      ]
     },
     "metadata": {
      "needs_background": "light"
     },
     "output_type": "display_data"
    },
    {
     "data": {
      "text/plain": [
       "<Figure size 432x288 with 0 Axes>"
      ]
     },
     "metadata": {},
     "output_type": "display_data"
    }
   ],
   "source": [
    "import matplotlib\n",
    "import matplotlib.pyplot as plt\n",
    "from sklearn import preprocessing\n",
    "\n",
    "labels = featuresClass.columns\n",
    "\n",
    "x = np.arange(len(labels))  # the label locations\n",
    "width = 0.5  # the width of the bars\n",
    "\n",
    "# normalize on abs values\n",
    "perm_imp_plt = np.concatenate(preprocessing.MinMaxScaler().fit_transform(pd.DataFrame(perm_imp_frame.loc[labels,'mean'])))\n",
    "gini_plt = np.concatenate(preprocessing.MinMaxScaler().fit_transform(forest_importance.loc[labels,]))\n",
    "\n",
    "# sort\n",
    "correct_order = np.argsort(perm_imp_plt)[::-1]\n",
    "labels = labels[correct_order]\n",
    "perm_imp_plt = perm_imp_plt[correct_order]\n",
    "gini_plt = gini_plt[correct_order]\n",
    "\n",
    "fig, ax = plt.subplots(figsize=(12,8))\n",
    "rects1 = ax.bar(x - width/2, perm_imp_plt, width/2, label='Permutation Importance')\n",
    "rects2 = ax.bar(x + width/2, gini_plt, width/2, label='Gini Importance')\n",
    "\n",
    "# Add some text for labels, title and custom x-axis tick labels, etc.\n",
    "ax.set_ylabel('Feature Importance')\n",
    "ax.set_title('Feature Importance in Predicting Individual Judgments')\n",
    "ax.set_xticks(x)\n",
    "ax.set_xticklabels(labels)\n",
    "ax.legend()\n",
    "\n",
    "plt.xticks(rotation=90)\n",
    "\n",
    "fig.tight_layout()\n",
    "\n",
    "plt.show()\n",
    "plt.savefig('figs/feature_importance_binary.png')\n"
   ]
  },
  {
   "cell_type": "code",
   "execution_count": 50,
   "metadata": {},
   "outputs": [
    {
     "name": "stdout",
     "output_type": "stream",
     "text": [
      "(0.35203074506569343, 0.2170667587009422)\n",
      "(0.1761766119547653, 0.5468566426453519)\n",
      "(0.15695697458989677, 0.59205133710476)\n",
      "(-0.41873661952047714, 0.13617568072624325)\n"
     ]
    }
   ],
   "source": [
    "from scipy.stats import pearsonr\n",
    "\n",
    "labels_corrs = features.columns[:-3]\n",
    "\n",
    "# Raw coefficient values\n",
    "perm_imp_frame_temp = pd.DataFrame(data={'mean': perm_imp.importances_mean,\n",
    "                                   'sd': perm_imp.importances_std}, \n",
    "                              index=featuresClass.columns)  \n",
    "perm_imp_vec = perm_imp_frame_temp.loc[labels_corrs,:].iloc[:,0]\n",
    "\n",
    "\n",
    "forest_imp_vec = np.concatenate(forest_importance.loc[labels_corrs,].values)\n",
    "\n",
    "# load reliabilities\n",
    "reliabilities = pd.read_csv(r\"category_reliabilities.csv\")\n",
    "reliabilities\n",
    "\n",
    "# correlate\n",
    "print(pearsonr(perm_imp_vec, reliabilities.kalpha.values))\n",
    "print(pearsonr(perm_imp_vec, reliabilities.agreement.values))\n",
    "\n",
    "print(pearsonr(forest_imp_vec, reliabilities.kalpha.values))\n",
    "print(pearsonr(forest_imp_vec, reliabilities.agreement.values))"
   ]
  },
  {
   "cell_type": "markdown",
   "metadata": {},
   "source": [
    "### Correlate to verify directions of demographic predictors"
   ]
  },
  {
   "cell_type": "code",
   "execution_count": 51,
   "metadata": {},
   "outputs": [
    {
     "name": "stdout",
     "output_type": "stream",
     "text": [
      "PointbiserialrResult(correlation=0.02573965555653377, pvalue=3.9536399187222464e-17)\n",
      "PointbiserialrResult(correlation=-0.007975583921835793, pvalue=0.009138757305995575)\n",
      "(-0.004519194323846483, 0.13965351166342516)\n"
     ]
    }
   ],
   "source": [
    "from scipy.stats import pointbiserialr\n",
    "from scipy.stats import pearsonr\n",
    "\n",
    "\n",
    "# coded low = conservative, high = liberal\n",
    "print(pointbiserialr(responsesClass, featuresClass.PoliticalOrientation))\n",
    "\n",
    "print(pointbiserialr(responsesClass, featuresClass.Age))\n",
    "\n",
    "print(pearsonr(responsesClass, featuresClass.gender_Male)) # pearson's phi"
   ]
  },
  {
   "cell_type": "markdown",
   "metadata": {},
   "source": [
    "# Pickle models"
   ]
  },
  {
   "cell_type": "code",
   "execution_count": 52,
   "metadata": {},
   "outputs": [],
   "source": [
    "import pickle\n",
    "\n",
    "pickle.dump(forest_cv, open(\"pickles/forest_cv\", \"wb\"))\n",
    "pickle.dump(mlp_cv, open(\"pickles/mlp_cv\", \"wb\"))\n",
    "pickle.dump(adaboost_cv, open(\"pickles/adaboost_cv\", \"wb\"))\n",
    "pickle.dump(partialdep, open(\"pickles/partialdep\", \"wb\"))\n",
    "pickle.dump(perm_imp, open(\"pickles/perm_imp\", \"wb\"))"
   ]
  },
  {
   "cell_type": "code",
   "execution_count": 53,
   "metadata": {},
   "outputs": [],
   "source": [
    "# forest_cv = pickle.load(open(\"pickles/forest_cv\", \"rb\"))\n",
    "# mlp_cv = pickle.load(open(\"pickles/mlp_cv\", \"rb\"))\n",
    "# adaboost_cv = pickle.load(open(\"pickles/adaboost_cv\", \"rb\"))\n",
    "# partialdep = pickle.load(open(\"pickles/partialdep\", \"rb\"))\n",
    "# perm_imp = pickle.load(open(\"pickles/perm_imp\", \"rb\"))"
   ]
  }
 ],
 "metadata": {
  "hide_input": false,
  "kernelspec": {
   "display_name": "Python 3",
   "language": "python",
   "name": "python3"
  },
  "language_info": {
   "codemirror_mode": {
    "name": "ipython",
    "version": 3
   },
   "file_extension": ".py",
   "mimetype": "text/x-python",
   "name": "python",
   "nbconvert_exporter": "python",
   "pygments_lexer": "ipython3",
   "version": "3.8.3"
  }
 },
 "nbformat": 4,
 "nbformat_minor": 4
}
