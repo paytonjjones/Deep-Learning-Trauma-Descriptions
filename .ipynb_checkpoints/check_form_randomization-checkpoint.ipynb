{
 "cells": [
  {
   "cell_type": "code",
   "execution_count": 70,
   "metadata": {},
   "outputs": [
    {
     "data": {
      "text/plain": [
       "[0, 1, 2, 3, 0, 1, 2, 3]"
      ]
     },
     "execution_count": 70,
     "metadata": {},
     "output_type": "execute_result"
    }
   ],
   "source": [
    "[form % 4 for form in forms_index] "
   ]
  },
  {
   "cell_type": "code",
   "execution_count": 79,
   "metadata": {},
   "outputs": [
    {
     "name": "stdout",
     "output_type": "stream",
     "text": [
      "False\n"
     ]
    }
   ],
   "source": [
    "forms = ['TQ.xx.xx.02', 'TQ.xx.xx.01', 'TQ.xx.xx.04', 'TQ.xx.xx.03', 'TQ.xx.xx.01', 'TQ.xx.xx.04','TQ.xx.xx.03','TQ.xx.xx.02']\n",
    "forms = ['TQ.xx.xx.02', 'TQ.xx.xx.01', 'TQ.xx.xx.04', 'TQ.xx.xx.03','TQ.xx.xx.03','TQ.xx.xx.02', 'TQ.xx.xx.01', 'TQ.xx.xx.04']\n",
    "#forms = ['TQ.xx.xx.02', 'TQ.xx.xx.01', 'TQ.xx.xx.04', 'TQ.xx.xx.03','TQ.xx.xx.01','TQ.xx.xx.02','TQ.xx.xx.01', 'TQ.xx.xx.03']\n",
    "forms_index = list(range(0, len(forms)))\n",
    "n = 4\n",
    "\n",
    "i = 1 # skip checking the first form\n",
    "while i < len(forms):\n",
    "    index_of_total = forms_index[i] % n\n",
    "    check_last_j_forms = max(1, index_of_total)\n",
    "    j = 1\n",
    "    while j <= check_last_j_forms:\n",
    "        if forms[i] == forms[i-j]:\n",
    "            print(False)\n",
    "        j = j + 1\n",
    "    i = i + 1\n"
   ]
  },
  {
   "cell_type": "code",
   "execution_count": null,
   "metadata": {},
   "outputs": [],
   "source": [
    "forms"
   ]
  }
 ],
 "metadata": {
  "hide_input": false,
  "kernelspec": {
   "display_name": "Python 3.8.3 64-bit",
   "language": "python",
   "name": "python38364bitdba7464a9fc341759765cf984f6f4adf"
  },
  "language_info": {
   "codemirror_mode": {
    "name": "ipython",
    "version": 3
   },
   "file_extension": ".py",
   "mimetype": "text/x-python",
   "name": "python",
   "nbconvert_exporter": "python",
   "pygments_lexer": "ipython3",
   "version": "3.8.3"
  }
 },
 "nbformat": 4,
 "nbformat_minor": 4
}
